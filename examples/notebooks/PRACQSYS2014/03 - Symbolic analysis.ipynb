{
 "metadata": {
  "name": "",
  "signature": "sha256:e7f708fcd3780d91d3e9abc8c98751a05303d4097670b6ab0999deb1ac9790d8"
 },
 "nbformat": 3,
 "nbformat_minor": 0,
 "worksheets": [
  {
   "cells": [
    {
     "cell_type": "code",
     "collapsed": false,
     "input": [
      "from qnet.algebra.circuit_algebra import *"
     ],
     "language": "python",
     "metadata": {},
     "outputs": [],
     "prompt_number": 1
    },
    {
     "cell_type": "code",
     "collapsed": false,
     "input": [
      "import sympy\n",
      "sympy.init_printing()"
     ],
     "language": "python",
     "metadata": {},
     "outputs": [],
     "prompt_number": 2
    },
    {
     "cell_type": "heading",
     "level": 2,
     "metadata": {},
     "source": [
      "Import the symmetric Kerr amplifier model"
     ]
    },
    {
     "cell_type": "code",
     "collapsed": false,
     "input": [
      "from kerr_amplifier_cc import KerrAmplifier"
     ],
     "language": "python",
     "metadata": {},
     "outputs": [],
     "prompt_number": 3
    },
    {
     "cell_type": "code",
     "collapsed": false,
     "input": [
      "KerrAmplifier._parameters"
     ],
     "language": "python",
     "metadata": {},
     "outputs": [
      {
       "metadata": {},
       "output_type": "pyout",
       "prompt_number": 4,
       "text": [
        "['Delta', 'chi', 'eta', 'kappa']"
       ]
      }
     ],
     "prompt_number": 4
    },
    {
     "cell_type": "heading",
     "level": 3,
     "metadata": {},
     "source": [
      "Define symbolic paramaters"
     ]
    },
    {
     "cell_type": "markdown",
     "metadata": {},
     "source": [
      "The parameters are:\n",
      "\n",
      "* Input coupling mirrors $\\kappa$\n",
      "* Loss rates $\\eta$\n",
      "* Cavity detuning $\\Delta$\n",
      "* Non-linear coefficient $\\chi$\n",
      "* signal input amplitude $\\alpha$\n",
      "* bias input $\\beta$"
     ]
    },
    {
     "cell_type": "code",
     "collapsed": false,
     "input": [
      "eta, kappa = symbols(\"eta, kappa\", positive=True)  # positive\n",
      "Delta, chi = symbols(\"Delta, chi\", real=True)      # in general real\n",
      "alpha, beta = symbols(\"alpha, beta\")               # in general complex\n",
      "\n",
      "KA = KerrAmplifier(\"KA\", Delta=Delta, chi=chi, eta=eta, kappa=kappa)\n",
      "KA"
     ],
     "language": "python",
     "metadata": {},
     "outputs": [
      {
       "latex": [
        "${\\rm KA}$"
       ],
       "metadata": {},
       "output_type": "pyout",
       "prompt_number": 5,
       "text": [
        "KerrAmplifier('KA','', chi=chi, eta=eta, kappa=kappa, Delta=Delta)"
       ]
      }
     ],
     "prompt_number": 5
    },
    {
     "cell_type": "code",
     "collapsed": false,
     "input": [
      "KA.toSLH()"
     ],
     "language": "python",
     "metadata": {},
     "outputs": [
      {
       "latex": [
        "$\\left( \\begin{pmatrix} 1 & 0 & 0 & 0 \\\\ 0 & 1 & 0 & 0 \\\\ 0 & 0 & 1 & 0 \\\\ 0 & 0 & 0 & 1\\end{pmatrix}, \\begin{pmatrix}  - \\frac{\\sqrt{2} \\sqrt{\\kappa}}{2} {a_{{{\\rm KA.K1}}}} +  \\frac{\\sqrt{2} \\sqrt{\\kappa}}{2} {a_{{{\\rm KA.K2}}}} \\\\  \\frac{\\sqrt{2} \\sqrt{\\kappa}}{2} {a_{{{\\rm KA.K1}}}} +  \\frac{\\sqrt{2} \\sqrt{\\kappa}}{2} {a_{{{\\rm KA.K2}}}} \\\\  \\sqrt{\\eta} {a_{{{\\rm KA.K2}}}} \\\\  \\sqrt{\\eta} {a_{{{\\rm KA.K1}}}}\\end{pmatrix},  \\chi {a_{{{\\rm KA.K1}}}^\\dagger} {a_{{{\\rm KA.K1}}}^\\dagger} {a_{{{\\rm KA.K1}}}} {a_{{{\\rm KA.K1}}}} +  \\Delta {a_{{{\\rm KA.K1}}}^\\dagger} {a_{{{\\rm KA.K1}}}} +  \\chi {a_{{{\\rm KA.K2}}}^\\dagger} {a_{{{\\rm KA.K2}}}^\\dagger} {a_{{{\\rm KA.K2}}}} {a_{{{\\rm KA.K2}}}} +  \\Delta {a_{{{\\rm KA.K2}}}^\\dagger} {a_{{{\\rm KA.K2}}}} \\right)$"
       ],
       "metadata": {},
       "output_type": "pyout",
       "prompt_number": 6,
       "text": [
        "SLH(Matrix([[1, 0, 0, 0], [0, 1, 0, 0], [0, 0, 1, 0], [0, 0, 0, 1]]), Matrix([[OperatorPlus(ScalarTimesOperator(-sqrt(2)*sqrt(kappa)/2, Destroy(LocalSpace('KA.K1', ''))), ScalarTimesOperator(sqrt(2)*sqrt(kappa)/2, Destroy(LocalSpace('KA.K2', ''))))], [OperatorPlus(ScalarTimesOperator(sqrt(2)*sqrt(kappa)/2, Destroy(LocalSpace('KA.K1', ''))), ScalarTimesOperator(sqrt(2)*sqrt(kappa)/2, Destroy(LocalSpace('KA.K2', ''))))], [ScalarTimesOperator(sqrt(eta), Destroy(LocalSpace('KA.K2', '')))], [ScalarTimesOperator(sqrt(eta), Destroy(LocalSpace('KA.K1', '')))]]), OperatorPlus(ScalarTimesOperator(chi, OperatorTimes(Create(LocalSpace('KA.K1', '')), Create(LocalSpace('KA.K1', '')), Destroy(LocalSpace('KA.K1', '')), Destroy(LocalSpace('KA.K1', '')))), ScalarTimesOperator(Delta, OperatorTimes(Create(LocalSpace('KA.K1', '')), Destroy(LocalSpace('KA.K1', '')))), ScalarTimesOperator(chi, OperatorTimes(Create(LocalSpace('KA.K2', '')), Create(LocalSpace('KA.K2', '')), Destroy(LocalSpace('KA.K2', '')), Destroy(LocalSpace('KA.K2', '')))), ScalarTimesOperator(Delta, OperatorTimes(Create(LocalSpace('KA.K2', '')), Destroy(LocalSpace('KA.K2', ''))))))"
       ]
      }
     ],
     "prompt_number": 6
    },
    {
     "cell_type": "heading",
     "level": 3,
     "metadata": {},
     "source": [
      "Add driving"
     ]
    },
    {
     "cell_type": "code",
     "collapsed": false,
     "input": [
      "KA_driven = KA.coherent_input(alpha, beta, 0, 0)\n",
      "KA_driven"
     ],
     "language": "python",
     "metadata": {},
     "outputs": [
      {
       "latex": [
        "${{\\rm KA}} \\lhd \\left({W(\\alpha)} \\boxplus {W(\\beta)} \\boxplus \\mathbf{1}_{2}\\right)$"
       ],
       "metadata": {},
       "output_type": "pyout",
       "prompt_number": 7,
       "text": [
        "SeriesProduct(KerrAmplifier('KA','', chi=chi, eta=eta, kappa=kappa, Delta=Delta), Concatenation(Displace('W','', alpha=alpha), Displace('W','', alpha=beta), CIdentity, CIdentity))"
       ]
      }
     ],
     "prompt_number": 7
    },
    {
     "cell_type": "code",
     "collapsed": false,
     "input": [
      "KA_driven.show()"
     ],
     "language": "python",
     "metadata": {},
     "outputs": [
      {
       "output_type": "stream",
       "stream": "stderr",
       "text": [
        "Ignoring line 14085 in mapping file 'psfonts.map': Unknown token '<MinLibBol'\n",
        "Ignoring line 14086 in mapping file 'psfonts.map': Unknown token '<MinLibBol'\n",
        "Ignoring line 14087 in mapping file 'psfonts.map': Unknown token '<MinLibBol'\n",
        "Ignoring line 14088 in mapping file 'psfonts.map': Unknown token '<MinLibBolIta'\n",
        "Ignoring line 14089 in mapping file 'psfonts.map': Unknown token '<MinLibBolIta'\n",
        "Ignoring line 14090 in mapping file 'psfonts.map': Unknown token '<MinLibBolIta'\n",
        "Ignoring line 14091 in mapping file 'psfonts.map': Unknown token '<MinLibIta'\n",
        "Ignoring line 14092 in mapping file 'psfonts.map': Unknown token '<MinLibIta'\n",
        "Ignoring line 14093 in mapping file 'psfonts.map': Unknown token '<MinLibIta'\n",
        "Ignoring line 14094 in mapping file 'psfonts.map': Unknown token '<MinLibReg'\n",
        "Ignoring line 14095 in mapping file 'psfonts.map': Unknown token '<MinLibReg'\n",
        "Ignoring line 14096 in mapping file 'psfonts.map': Unknown token '<MinLibReg'\n"
       ]
      },
      {
       "metadata": {},
       "output_type": "display_data",
       "png": "[encoded data removed]",
       "text": [
        "<IPython.core.display.Image at 0x108528490>"
       ]
      }
     ],
     "prompt_number": 8
    },
    {
     "cell_type": "code",
     "collapsed": false,
     "input": [
      "KA_driven_SLH = KA_driven.toSLH().expand().simplify_scalar()\n",
      "KA_driven_SLH"
     ],
     "language": "python",
     "metadata": {},
     "outputs": [
      {
       "latex": [
        "$\\left( \\begin{pmatrix} 1 & 0 & 0 & 0 \\\\ 0 & 1 & 0 & 0 \\\\ 0 & 0 & 1 & 0 \\\\ 0 & 0 & 0 & 1\\end{pmatrix}, \\begin{pmatrix}  \\alpha -  \\frac{\\sqrt{2} \\sqrt{\\kappa}}{2} {a_{{{\\rm KA.K1}}}} +  \\frac{\\sqrt{2} \\sqrt{\\kappa}}{2} {a_{{{\\rm KA.K2}}}} \\\\  \\beta +  \\frac{\\sqrt{2} \\sqrt{\\kappa}}{2} {a_{{{\\rm KA.K1}}}} +  \\frac{\\sqrt{2} \\sqrt{\\kappa}}{2} {a_{{{\\rm KA.K2}}}} \\\\  \\sqrt{\\eta} {a_{{{\\rm KA.K2}}}} \\\\  \\sqrt{\\eta} {a_{{{\\rm KA.K1}}}}\\end{pmatrix},  \\frac{\\sqrt{2} i}{4} \\sqrt{\\kappa} \\left(\\alpha - \\beta\\right) {a_{{{\\rm KA.K1}}}^\\dagger} -  \\frac{\\sqrt{2} i}{4} \\sqrt{\\kappa} \\left(\\alpha + \\beta\\right) {a_{{{\\rm KA.K2}}}^\\dagger} +  \\frac{\\sqrt{2} i}{4} \\sqrt{\\kappa} \\left(- \\overline{\\alpha} + \\overline{\\beta}\\right) {a_{{{\\rm KA.K1}}}} +  \\frac{\\sqrt{2} i}{4} \\sqrt{\\kappa} \\left(\\overline{\\alpha} + \\overline{\\beta}\\right) {a_{{{\\rm KA.K2}}}} +  \\chi {a_{{{\\rm KA.K1}}}^\\dagger} {a_{{{\\rm KA.K1}}}^\\dagger} {a_{{{\\rm KA.K1}}}} {a_{{{\\rm KA.K1}}}} +  \\Delta {a_{{{\\rm KA.K1}}}^\\dagger} {a_{{{\\rm KA.K1}}}} +  \\chi {a_{{{\\rm KA.K2}}}^\\dagger} {a_{{{\\rm KA.K2}}}^\\dagger} {a_{{{\\rm KA.K2}}}} {a_{{{\\rm KA.K2}}}} +  \\Delta {a_{{{\\rm KA.K2}}}^\\dagger} {a_{{{\\rm KA.K2}}}} \\right)$"
       ],
       "metadata": {},
       "output_type": "pyout",
       "prompt_number": 9,
       "text": [
        "SLH(Matrix([[1, 0, 0, 0], [0, 1, 0, 0], [0, 0, 1, 0], [0, 0, 0, 1]]), Matrix([[OperatorPlus(ScalarTimesOperator(alpha, IdentityOperator), ScalarTimesOperator(-sqrt(2)*sqrt(kappa)/2, Destroy(LocalSpace('KA.K1', ''))), ScalarTimesOperator(sqrt(2)*sqrt(kappa)/2, Destroy(LocalSpace('KA.K2', ''))))], [OperatorPlus(ScalarTimesOperator(beta, IdentityOperator), ScalarTimesOperator(sqrt(2)*sqrt(kappa)/2, Destroy(LocalSpace('KA.K1', ''))), ScalarTimesOperator(sqrt(2)*sqrt(kappa)/2, Destroy(LocalSpace('KA.K2', ''))))], [ScalarTimesOperator(sqrt(eta), Destroy(LocalSpace('KA.K2', '')))], [ScalarTimesOperator(sqrt(eta), Destroy(LocalSpace('KA.K1', '')))]]), OperatorPlus(ScalarTimesOperator(sqrt(2)*I*sqrt(kappa)*(alpha - beta)/4, Create(LocalSpace('KA.K1', ''))), ScalarTimesOperator(-sqrt(2)*I*sqrt(kappa)*(alpha + beta)/4, Create(LocalSpace('KA.K2', ''))), ScalarTimesOperator(sqrt(2)*I*sqrt(kappa)*(-conjugate(alpha) + conjugate(beta))/4, Destroy(LocalSpace('KA.K1', ''))), ScalarTimesOperator(sqrt(2)*I*sqrt(kappa)*(conjugate(alpha) + conjugate(beta))/4, Destroy(LocalSpace('KA.K2', ''))), ScalarTimesOperator(chi, OperatorTimes(Create(LocalSpace('KA.K1', '')), Create(LocalSpace('KA.K1', '')), Destroy(LocalSpace('KA.K1', '')), Destroy(LocalSpace('KA.K1', '')))), ScalarTimesOperator(Delta, OperatorTimes(Create(LocalSpace('KA.K1', '')), Destroy(LocalSpace('KA.K1', '')))), ScalarTimesOperator(chi, OperatorTimes(Create(LocalSpace('KA.K2', '')), Create(LocalSpace('KA.K2', '')), Destroy(LocalSpace('KA.K2', '')), Destroy(LocalSpace('KA.K2', '')))), ScalarTimesOperator(Delta, OperatorTimes(Create(LocalSpace('KA.K2', '')), Destroy(LocalSpace('KA.K2', ''))))))"
       ]
      }
     ],
     "prompt_number": 9
    },
    {
     "cell_type": "heading",
     "level": 2,
     "metadata": {},
     "source": [
      "Symbolic Heisenberg SDEs"
     ]
    },
    {
     "cell_type": "code",
     "collapsed": false,
     "input": [
      "noises = [OperatorSymbol(\"dA_{{{}}}/dt\".format(k), \"n{}\".format(k)) for k in range(1, KA.cdim+1)]\n",
      "display(*noises)"
     ],
     "language": "python",
     "metadata": {},
     "outputs": [
      {
       "latex": [
        "$dA_{1}/dt$"
       ],
       "metadata": {},
       "output_type": "display_data",
       "text": [
        "OperatorSymbol('dA_{1}/dt', LocalSpace('n1', ''))"
       ]
      },
      {
       "latex": [
        "$dA_{2}/dt$"
       ],
       "metadata": {},
       "output_type": "display_data",
       "text": [
        "OperatorSymbol('dA_{2}/dt', LocalSpace('n2', ''))"
       ]
      },
      {
       "latex": [
        "$dA_{3}/dt$"
       ],
       "metadata": {},
       "output_type": "display_data",
       "text": [
        "OperatorSymbol('dA_{3}/dt', LocalSpace('n3', ''))"
       ]
      },
      {
       "latex": [
        "$dA_{4}/dt$"
       ],
       "metadata": {},
       "output_type": "display_data",
       "text": [
        "OperatorSymbol('dA_{4}/dt', LocalSpace('n4', ''))"
       ]
      }
     ],
     "prompt_number": 10
    },
    {
     "cell_type": "code",
     "collapsed": false,
     "input": [
      "a1, a2 = map(Destroy, KA.space.local_factors())\n",
      "display(a1, a2)"
     ],
     "language": "python",
     "metadata": {},
     "outputs": [
      {
       "latex": [
        "${a_{{{\\rm KA.K1}}}}$"
       ],
       "metadata": {},
       "output_type": "display_data",
       "text": [
        "Destroy(LocalSpace('KA.K1', ''))"
       ]
      },
      {
       "latex": [
        "${a_{{{\\rm KA.K2}}}}$"
       ],
       "metadata": {},
       "output_type": "display_data",
       "text": [
        "Destroy(LocalSpace('KA.K2', ''))"
       ]
      }
     ],
     "prompt_number": 11
    },
    {
     "cell_type": "code",
     "collapsed": false,
     "input": [
      "a1_sde = KA_driven_SLH.symbolic_heisenberg_eom(a1, noises=noises).expand().simplify_scalar()\n",
      "a2_sde = KA_driven_SLH.symbolic_heisenberg_eom(a2, noises=noises).expand().simplify_scalar()\n",
      "display(a1_sde, a2_sde)"
     ],
     "language": "python",
     "metadata": {},
     "outputs": [
      {
       "latex": [
        "$ \\frac{\\sqrt{2} \\sqrt{\\kappa}}{2} \\left(\\alpha - \\beta\\right) -  \\left(i \\Delta + \\frac{\\eta}{2} + \\frac{\\kappa}{2}\\right) {a_{{{\\rm KA.K1}}}} +  \\frac{\\sqrt{2} \\sqrt{\\kappa}}{2} dA_{1}/dt -  \\frac{\\sqrt{2} \\sqrt{\\kappa}}{2} dA_{2}/dt -  \\sqrt{\\eta} dA_{4}/dt -  2 i \\chi {a_{{{\\rm KA.K1}}}^\\dagger} {a_{{{\\rm KA.K1}}}} {a_{{{\\rm KA.K1}}}}$"
       ],
       "metadata": {},
       "output_type": "display_data",
       "text": [
        "OperatorPlus(ScalarTimesOperator(sqrt(2)*sqrt(kappa)*(alpha - beta)/2, IdentityOperator), ScalarTimesOperator(-I*Delta - eta/2 - kappa/2, Destroy(LocalSpace('KA.K1', ''))), ScalarTimesOperator(sqrt(2)*sqrt(kappa)/2, OperatorSymbol('dA_{1}/dt', LocalSpace('n1', ''))), ScalarTimesOperator(-sqrt(2)*sqrt(kappa)/2, OperatorSymbol('dA_{2}/dt', LocalSpace('n2', ''))), ScalarTimesOperator(-sqrt(eta), OperatorSymbol('dA_{4}/dt', LocalSpace('n4', ''))), ScalarTimesOperator(-2*I*chi, OperatorTimes(Create(LocalSpace('KA.K1', '')), Destroy(LocalSpace('KA.K1', '')), Destroy(LocalSpace('KA.K1', '')))))"
       ]
      },
      {
       "latex": [
        "$ - \\frac{\\sqrt{2} \\sqrt{\\kappa}}{2} \\left(\\alpha + \\beta\\right) -  \\left(i \\Delta + \\frac{\\eta}{2} + \\frac{\\kappa}{2}\\right) {a_{{{\\rm KA.K2}}}} -  \\frac{\\sqrt{2} \\sqrt{\\kappa}}{2} dA_{1}/dt -  \\sqrt{\\eta} dA_{3}/dt -  \\frac{\\sqrt{2} \\sqrt{\\kappa}}{2} dA_{2}/dt -  2 i \\chi {a_{{{\\rm KA.K2}}}^\\dagger} {a_{{{\\rm KA.K2}}}} {a_{{{\\rm KA.K2}}}}$"
       ],
       "metadata": {},
       "output_type": "display_data",
       "text": [
        "OperatorPlus(ScalarTimesOperator(-sqrt(2)*sqrt(kappa)*(alpha + beta)/2, IdentityOperator), ScalarTimesOperator(-I*Delta - eta/2 - kappa/2, Destroy(LocalSpace('KA.K2', ''))), ScalarTimesOperator(-sqrt(2)*sqrt(kappa)/2, OperatorSymbol('dA_{1}/dt', LocalSpace('n1', ''))), ScalarTimesOperator(-sqrt(eta), OperatorSymbol('dA_{3}/dt', LocalSpace('n3', ''))), ScalarTimesOperator(-sqrt(2)*sqrt(kappa)/2, OperatorSymbol('dA_{2}/dt', LocalSpace('n2', ''))), ScalarTimesOperator(-2*I*chi, OperatorTimes(Create(LocalSpace('KA.K2', '')), Destroy(LocalSpace('KA.K2', '')), Destroy(LocalSpace('KA.K2', '')))))"
       ]
      }
     ],
     "prompt_number": 12
    },
    {
     "cell_type": "heading",
     "level": 2,
     "metadata": {},
     "source": [
      "Liouvillian, Master equation"
     ]
    },
    {
     "cell_type": "code",
     "collapsed": false,
     "input": [
      "L_KA = KA_driven_SLH.symbolic_liouvillian().expand().simplify_scalar()\n",
      "L_KA"
     ],
     "language": "python",
     "metadata": {},
     "outputs": [
      {
       "latex": [
        "$\\frac{\\sqrt{2} \\sqrt{\\kappa}}{2} \\left(- \\alpha + \\beta\\right) {\\rm spost}\\left[{a_{{{\\rm KA.K1}}}^\\dagger}\\right] + \\frac{\\sqrt{2} \\sqrt{\\kappa}}{2} \\left(\\alpha + \\beta\\right) {\\rm spost}\\left[{a_{{{\\rm KA.K2}}}^\\dagger}\\right] + \\frac{\\sqrt{2} \\sqrt{\\kappa}}{2} \\left(\\overline{\\alpha} - \\overline{\\beta}\\right) {\\rm spost}\\left[{a_{{{\\rm KA.K1}}}}\\right] - \\frac{\\sqrt{2} \\sqrt{\\kappa}}{2} \\left(\\overline{\\alpha} + \\overline{\\beta}\\right) {\\rm spost}\\left[{a_{{{\\rm KA.K2}}}}\\right] + i \\chi {\\rm spost}\\left[{a_{{{\\rm KA.K1}}}^\\dagger} {a_{{{\\rm KA.K1}}}^\\dagger} {a_{{{\\rm KA.K1}}}} {a_{{{\\rm KA.K1}}}}\\right] + \\left(i \\Delta - \\frac{\\eta}{2} - \\frac{\\kappa}{2}\\right) {\\rm spost}\\left[{a_{{{\\rm KA.K1}}}^\\dagger} {a_{{{\\rm KA.K1}}}}\\right] + i \\chi {\\rm spost}\\left[{a_{{{\\rm KA.K2}}}^\\dagger} {a_{{{\\rm KA.K2}}}^\\dagger} {a_{{{\\rm KA.K2}}}} {a_{{{\\rm KA.K2}}}}\\right] + \\left(i \\Delta - \\frac{\\eta}{2} - \\frac{\\kappa}{2}\\right) {\\rm spost}\\left[{a_{{{\\rm KA.K2}}}^\\dagger} {a_{{{\\rm KA.K2}}}}\\right] + \\frac{\\sqrt{2} \\sqrt{\\kappa}}{2} \\left(\\alpha - \\beta\\right) {\\rm spre}\\left[{a_{{{\\rm KA.K1}}}^\\dagger}\\right] - \\frac{\\sqrt{2} \\sqrt{\\kappa}}{2} \\left(\\alpha + \\beta\\right) {\\rm spre}\\left[{a_{{{\\rm KA.K2}}}^\\dagger}\\right] + \\frac{\\sqrt{2} \\sqrt{\\kappa}}{2} \\left(- \\overline{\\alpha} + \\overline{\\beta}\\right) {\\rm spre}\\left[{a_{{{\\rm KA.K1}}}}\\right] + \\frac{\\sqrt{2} \\sqrt{\\kappa}}{2} \\left(\\overline{\\alpha} + \\overline{\\beta}\\right) {\\rm spre}\\left[{a_{{{\\rm KA.K2}}}}\\right] - i \\chi {\\rm spre}\\left[{a_{{{\\rm KA.K1}}}^\\dagger} {a_{{{\\rm KA.K1}}}^\\dagger} {a_{{{\\rm KA.K1}}}} {a_{{{\\rm KA.K1}}}}\\right] - \\left(i \\Delta + \\frac{\\eta}{2} + \\frac{\\kappa}{2}\\right) {\\rm spre}\\left[{a_{{{\\rm KA.K1}}}^\\dagger} {a_{{{\\rm KA.K1}}}}\\right] - i \\chi {\\rm spre}\\left[{a_{{{\\rm KA.K2}}}^\\dagger} {a_{{{\\rm KA.K2}}}^\\dagger} {a_{{{\\rm KA.K2}}}} {a_{{{\\rm KA.K2}}}}\\right] - \\left(i \\Delta + \\frac{\\eta}{2} + \\frac{\\kappa}{2}\\right) {\\rm spre}\\left[{a_{{{\\rm KA.K2}}}^\\dagger} {a_{{{\\rm KA.K2}}}}\\right] + \\left(\\eta + \\kappa\\right) {\\rm spre}\\left[{a_{{{\\rm KA.K1}}}}\\right] {\\rm spost}\\left[{a_{{{\\rm KA.K1}}}^\\dagger}\\right] + \\left(\\eta + \\kappa\\right) {\\rm spre}\\left[{a_{{{\\rm KA.K2}}}}\\right] {\\rm spost}\\left[{a_{{{\\rm KA.K2}}}^\\dagger}\\right]$"
       ],
       "metadata": {},
       "output_type": "pyout",
       "prompt_number": 13,
       "text": [
        "SuperOperatorPlus(ScalarTimesSuperOperator(sqrt(2)*sqrt(kappa)*(-alpha + beta)/2, SPost(Create(LocalSpace('KA.K1', '')))), ScalarTimesSuperOperator(sqrt(2)*sqrt(kappa)*(alpha + beta)/2, SPost(Create(LocalSpace('KA.K2', '')))), ScalarTimesSuperOperator(sqrt(2)*sqrt(kappa)*(conjugate(alpha) - conjugate(beta))/2, SPost(Destroy(LocalSpace('KA.K1', '')))), ScalarTimesSuperOperator(-sqrt(2)*sqrt(kappa)*(conjugate(alpha) + conjugate(beta))/2, SPost(Destroy(LocalSpace('KA.K2', '')))), ScalarTimesSuperOperator(I*chi, SPost(OperatorTimes(Create(LocalSpace('KA.K1', '')), Create(LocalSpace('KA.K1', '')), Destroy(LocalSpace('KA.K1', '')), Destroy(LocalSpace('KA.K1', ''))))), ScalarTimesSuperOperator(I*Delta - eta/2 - kappa/2, SPost(OperatorTimes(Create(LocalSpace('KA.K1', '')), Destroy(LocalSpace('KA.K1', ''))))), ScalarTimesSuperOperator(I*chi, SPost(OperatorTimes(Create(LocalSpace('KA.K2', '')), Create(LocalSpace('KA.K2', '')), Destroy(LocalSpace('KA.K2', '')), Destroy(LocalSpace('KA.K2', ''))))), ScalarTimesSuperOperator(I*Delta - eta/2 - kappa/2, SPost(OperatorTimes(Create(LocalSpace('KA.K2', '')), Destroy(LocalSpace('KA.K2', ''))))), ScalarTimesSuperOperator(sqrt(2)*sqrt(kappa)*(alpha - beta)/2, SPre(Create(LocalSpace('KA.K1', '')))), ScalarTimesSuperOperator(-sqrt(2)*sqrt(kappa)*(alpha + beta)/2, SPre(Create(LocalSpace('KA.K2', '')))), ScalarTimesSuperOperator(sqrt(2)*sqrt(kappa)*(-conjugate(alpha) + conjugate(beta))/2, SPre(Destroy(LocalSpace('KA.K1', '')))), ScalarTimesSuperOperator(sqrt(2)*sqrt(kappa)*(conjugate(alpha) + conjugate(beta))/2, SPre(Destroy(LocalSpace('KA.K2', '')))), ScalarTimesSuperOperator(-I*chi, SPre(OperatorTimes(Create(LocalSpace('KA.K1', '')), Create(LocalSpace('KA.K1', '')), Destroy(LocalSpace('KA.K1', '')), Destroy(LocalSpace('KA.K1', ''))))), ScalarTimesSuperOperator(-I*Delta - eta/2 - kappa/2, SPre(OperatorTimes(Create(LocalSpace('KA.K1', '')), Destroy(LocalSpace('KA.K1', ''))))), ScalarTimesSuperOperator(-I*chi, SPre(OperatorTimes(Create(LocalSpace('KA.K2', '')), Create(LocalSpace('KA.K2', '')), Destroy(LocalSpace('KA.K2', '')), Destroy(LocalSpace('KA.K2', ''))))), ScalarTimesSuperOperator(-I*Delta - eta/2 - kappa/2, SPre(OperatorTimes(Create(LocalSpace('KA.K2', '')), Destroy(LocalSpace('KA.K2', ''))))), ScalarTimesSuperOperator(eta + kappa, SuperOperatorTimes(SPre(Destroy(LocalSpace('KA.K1', ''))), SPost(Create(LocalSpace('KA.K1', ''))))), ScalarTimesSuperOperator(eta + kappa, SuperOperatorTimes(SPre(Destroy(LocalSpace('KA.K2', ''))), SPost(Create(LocalSpace('KA.K2', ''))))))"
       ]
      }
     ],
     "prompt_number": 13
    },
    {
     "cell_type": "code",
     "collapsed": false,
     "input": [
      "rho = OperatorSymbol(\"rho\", FullSpace)\n",
      "L_KA * rho"
     ],
     "language": "python",
     "metadata": {},
     "outputs": [
      {
       "latex": [
        "$ - i \\chi {a_{{{\\rm KA.K1}}}^\\dagger} {a_{{{\\rm KA.K1}}}^\\dagger} {a_{{{\\rm KA.K1}}}} {a_{{{\\rm KA.K1}}}} {\\rho} -  \\left(i \\Delta + \\frac{\\eta}{2} + \\frac{\\kappa}{2}\\right) {a_{{{\\rm KA.K1}}}^\\dagger} {a_{{{\\rm KA.K1}}}} {\\rho} +  \\frac{\\sqrt{2} \\sqrt{\\kappa}}{2} \\left(\\alpha - \\beta\\right) {a_{{{\\rm KA.K1}}}^\\dagger} {\\rho} -  i \\chi {a_{{{\\rm KA.K2}}}^\\dagger} {a_{{{\\rm KA.K2}}}^\\dagger} {a_{{{\\rm KA.K2}}}} {a_{{{\\rm KA.K2}}}} {\\rho} -  \\left(i \\Delta + \\frac{\\eta}{2} + \\frac{\\kappa}{2}\\right) {a_{{{\\rm KA.K2}}}^\\dagger} {a_{{{\\rm KA.K2}}}} {\\rho} -  \\frac{\\sqrt{2} \\sqrt{\\kappa}}{2} \\left(\\alpha + \\beta\\right) {a_{{{\\rm KA.K2}}}^\\dagger} {\\rho} +  \\frac{\\sqrt{2} \\sqrt{\\kappa}}{2} \\left(- \\overline{\\alpha} + \\overline{\\beta}\\right) {a_{{{\\rm KA.K1}}}} {\\rho} +  \\left(\\eta + \\kappa\\right) {a_{{{\\rm KA.K1}}}} {\\rho} {a_{{{\\rm KA.K1}}}^\\dagger} +  \\frac{\\sqrt{2} \\sqrt{\\kappa}}{2} \\left(\\overline{\\alpha} + \\overline{\\beta}\\right) {a_{{{\\rm KA.K2}}}} {\\rho} +  \\left(\\eta + \\kappa\\right) {a_{{{\\rm KA.K2}}}} {\\rho} {a_{{{\\rm KA.K2}}}^\\dagger} +  \\frac{\\sqrt{2} \\sqrt{\\kappa}}{2} \\left(- \\alpha + \\beta\\right) {\\rho} {a_{{{\\rm KA.K1}}}^\\dagger} +  i \\chi {\\rho} {a_{{{\\rm KA.K1}}}^\\dagger} {a_{{{\\rm KA.K1}}}^\\dagger} {a_{{{\\rm KA.K1}}}} {a_{{{\\rm KA.K1}}}} +  \\left(i \\Delta - \\frac{\\eta}{2} - \\frac{\\kappa}{2}\\right) {\\rho} {a_{{{\\rm KA.K1}}}^\\dagger} {a_{{{\\rm KA.K1}}}} +  \\frac{\\sqrt{2} \\sqrt{\\kappa}}{2} \\left(\\alpha + \\beta\\right) {\\rho} {a_{{{\\rm KA.K2}}}^\\dagger} +  i \\chi {\\rho} {a_{{{\\rm KA.K2}}}^\\dagger} {a_{{{\\rm KA.K2}}}^\\dagger} {a_{{{\\rm KA.K2}}}} {a_{{{\\rm KA.K2}}}} +  \\left(i \\Delta - \\frac{\\eta}{2} - \\frac{\\kappa}{2}\\right) {\\rho} {a_{{{\\rm KA.K2}}}^\\dagger} {a_{{{\\rm KA.K2}}}} +  \\frac{\\sqrt{2} \\sqrt{\\kappa}}{2} \\left(\\overline{\\alpha} - \\overline{\\beta}\\right) {\\rho} {a_{{{\\rm KA.K1}}}} -  \\frac{\\sqrt{2} \\sqrt{\\kappa}}{2} \\left(\\overline{\\alpha} + \\overline{\\beta}\\right) {\\rho} {a_{{{\\rm KA.K2}}}}$"
       ],
       "metadata": {},
       "output_type": "pyout",
       "prompt_number": 14,
       "text": [
        "OperatorPlus(ScalarTimesOperator(-I*chi, OperatorTimes(Create(LocalSpace('KA.K1', '')), Create(LocalSpace('KA.K1', '')), Destroy(LocalSpace('KA.K1', '')), Destroy(LocalSpace('KA.K1', '')), OperatorSymbol('rho', FullSpace))), ScalarTimesOperator(-I*Delta - eta/2 - kappa/2, OperatorTimes(Create(LocalSpace('KA.K1', '')), Destroy(LocalSpace('KA.K1', '')), OperatorSymbol('rho', FullSpace))), ScalarTimesOperator(sqrt(2)*sqrt(kappa)*(alpha - beta)/2, OperatorTimes(Create(LocalSpace('KA.K1', '')), OperatorSymbol('rho', FullSpace))), ScalarTimesOperator(-I*chi, OperatorTimes(Create(LocalSpace('KA.K2', '')), Create(LocalSpace('KA.K2', '')), Destroy(LocalSpace('KA.K2', '')), Destroy(LocalSpace('KA.K2', '')), OperatorSymbol('rho', FullSpace))), ScalarTimesOperator(-I*Delta - eta/2 - kappa/2, OperatorTimes(Create(LocalSpace('KA.K2', '')), Destroy(LocalSpace('KA.K2', '')), OperatorSymbol('rho', FullSpace))), ScalarTimesOperator(-sqrt(2)*sqrt(kappa)*(alpha + beta)/2, OperatorTimes(Create(LocalSpace('KA.K2', '')), OperatorSymbol('rho', FullSpace))), ScalarTimesOperator(sqrt(2)*sqrt(kappa)*(-conjugate(alpha) + conjugate(beta))/2, OperatorTimes(Destroy(LocalSpace('KA.K1', '')), OperatorSymbol('rho', FullSpace))), ScalarTimesOperator(eta + kappa, OperatorTimes(Destroy(LocalSpace('KA.K1', '')), OperatorSymbol('rho', FullSpace), Create(LocalSpace('KA.K1', '')))), ScalarTimesOperator(sqrt(2)*sqrt(kappa)*(conjugate(alpha) + conjugate(beta))/2, OperatorTimes(Destroy(LocalSpace('KA.K2', '')), OperatorSymbol('rho', FullSpace))), ScalarTimesOperator(eta + kappa, OperatorTimes(Destroy(LocalSpace('KA.K2', '')), OperatorSymbol('rho', FullSpace), Create(LocalSpace('KA.K2', '')))), ScalarTimesOperator(sqrt(2)*sqrt(kappa)*(-alpha + beta)/2, OperatorTimes(OperatorSymbol('rho', FullSpace), Create(LocalSpace('KA.K1', '')))), ScalarTimesOperator(I*chi, OperatorTimes(OperatorSymbol('rho', FullSpace), Create(LocalSpace('KA.K1', '')), Create(LocalSpace('KA.K1', '')), Destroy(LocalSpace('KA.K1', '')), Destroy(LocalSpace('KA.K1', '')))), ScalarTimesOperator(I*Delta - eta/2 - kappa/2, OperatorTimes(OperatorSymbol('rho', FullSpace), Create(LocalSpace('KA.K1', '')), Destroy(LocalSpace('KA.K1', '')))), ScalarTimesOperator(sqrt(2)*sqrt(kappa)*(alpha + beta)/2, OperatorTimes(OperatorSymbol('rho', FullSpace), Create(LocalSpace('KA.K2', '')))), ScalarTimesOperator(I*chi, OperatorTimes(OperatorSymbol('rho', FullSpace), Create(LocalSpace('KA.K2', '')), Create(LocalSpace('KA.K2', '')), Destroy(LocalSpace('KA.K2', '')), Destroy(LocalSpace('KA.K2', '')))), ScalarTimesOperator(I*Delta - eta/2 - kappa/2, OperatorTimes(OperatorSymbol('rho', FullSpace), Create(LocalSpace('KA.K2', '')), Destroy(LocalSpace('KA.K2', '')))), ScalarTimesOperator(sqrt(2)*sqrt(kappa)*(conjugate(alpha) - conjugate(beta))/2, OperatorTimes(OperatorSymbol('rho', FullSpace), Destroy(LocalSpace('KA.K1', '')))), ScalarTimesOperator(-sqrt(2)*sqrt(kappa)*(conjugate(alpha) + conjugate(beta))/2, OperatorTimes(OperatorSymbol('rho', FullSpace), Destroy(LocalSpace('KA.K2', '')))))"
       ]
      }
     ],
     "prompt_number": 14
    },
    {
     "cell_type": "code",
     "collapsed": false,
     "input": [
      "Meq_KL = KA_driven_SLH.symbolic_master_equation(rho).expand().simplify_scalar()\n",
      "Meq_KL"
     ],
     "language": "python",
     "metadata": {},
     "outputs": [
      {
       "latex": [
        "$ - i \\chi {a_{{{\\rm KA.K1}}}^\\dagger} {a_{{{\\rm KA.K1}}}^\\dagger} {a_{{{\\rm KA.K1}}}} {a_{{{\\rm KA.K1}}}} {\\rho} -  \\left(i \\Delta + \\frac{\\eta}{2} + \\frac{\\kappa}{2}\\right) {a_{{{\\rm KA.K1}}}^\\dagger} {a_{{{\\rm KA.K1}}}} {\\rho} +  \\frac{\\sqrt{2} \\sqrt{\\kappa}}{2} \\left(\\alpha - \\beta\\right) {a_{{{\\rm KA.K1}}}^\\dagger} {\\rho} -  i \\chi {a_{{{\\rm KA.K2}}}^\\dagger} {a_{{{\\rm KA.K2}}}^\\dagger} {a_{{{\\rm KA.K2}}}} {a_{{{\\rm KA.K2}}}} {\\rho} -  \\left(i \\Delta + \\frac{\\eta}{2} + \\frac{\\kappa}{2}\\right) {a_{{{\\rm KA.K2}}}^\\dagger} {a_{{{\\rm KA.K2}}}} {\\rho} -  \\frac{\\sqrt{2} \\sqrt{\\kappa}}{2} \\left(\\alpha + \\beta\\right) {a_{{{\\rm KA.K2}}}^\\dagger} {\\rho} +  \\frac{\\sqrt{2} \\sqrt{\\kappa}}{2} \\left(- \\overline{\\alpha} + \\overline{\\beta}\\right) {a_{{{\\rm KA.K1}}}} {\\rho} +  \\left(\\eta + \\kappa\\right) {a_{{{\\rm KA.K1}}}} {\\rho} {a_{{{\\rm KA.K1}}}^\\dagger} +  \\frac{\\sqrt{2} \\sqrt{\\kappa}}{2} \\left(\\overline{\\alpha} + \\overline{\\beta}\\right) {a_{{{\\rm KA.K2}}}} {\\rho} +  \\left(\\eta + \\kappa\\right) {a_{{{\\rm KA.K2}}}} {\\rho} {a_{{{\\rm KA.K2}}}^\\dagger} +  \\frac{\\sqrt{2} \\sqrt{\\kappa}}{2} \\left(- \\alpha + \\beta\\right) {\\rho} {a_{{{\\rm KA.K1}}}^\\dagger} +  i \\chi {\\rho} {a_{{{\\rm KA.K1}}}^\\dagger} {a_{{{\\rm KA.K1}}}^\\dagger} {a_{{{\\rm KA.K1}}}} {a_{{{\\rm KA.K1}}}} +  \\left(i \\Delta - \\frac{\\eta}{2} - \\frac{\\kappa}{2}\\right) {\\rho} {a_{{{\\rm KA.K1}}}^\\dagger} {a_{{{\\rm KA.K1}}}} +  \\frac{\\sqrt{2} \\sqrt{\\kappa}}{2} \\left(\\alpha + \\beta\\right) {\\rho} {a_{{{\\rm KA.K2}}}^\\dagger} +  i \\chi {\\rho} {a_{{{\\rm KA.K2}}}^\\dagger} {a_{{{\\rm KA.K2}}}^\\dagger} {a_{{{\\rm KA.K2}}}} {a_{{{\\rm KA.K2}}}} +  \\left(i \\Delta - \\frac{\\eta}{2} - \\frac{\\kappa}{2}\\right) {\\rho} {a_{{{\\rm KA.K2}}}^\\dagger} {a_{{{\\rm KA.K2}}}} +  \\frac{\\sqrt{2} \\sqrt{\\kappa}}{2} \\left(\\overline{\\alpha} - \\overline{\\beta}\\right) {\\rho} {a_{{{\\rm KA.K1}}}} -  \\frac{\\sqrt{2} \\sqrt{\\kappa}}{2} \\left(\\overline{\\alpha} + \\overline{\\beta}\\right) {\\rho} {a_{{{\\rm KA.K2}}}}$"
       ],
       "metadata": {},
       "output_type": "pyout",
       "prompt_number": 15,
       "text": [
        "OperatorPlus(ScalarTimesOperator(-I*chi, OperatorTimes(Create(LocalSpace('KA.K1', '')), Create(LocalSpace('KA.K1', '')), Destroy(LocalSpace('KA.K1', '')), Destroy(LocalSpace('KA.K1', '')), OperatorSymbol('rho', FullSpace))), ScalarTimesOperator(-I*Delta - eta/2 - kappa/2, OperatorTimes(Create(LocalSpace('KA.K1', '')), Destroy(LocalSpace('KA.K1', '')), OperatorSymbol('rho', FullSpace))), ScalarTimesOperator(sqrt(2)*sqrt(kappa)*(alpha - beta)/2, OperatorTimes(Create(LocalSpace('KA.K1', '')), OperatorSymbol('rho', FullSpace))), ScalarTimesOperator(-I*chi, OperatorTimes(Create(LocalSpace('KA.K2', '')), Create(LocalSpace('KA.K2', '')), Destroy(LocalSpace('KA.K2', '')), Destroy(LocalSpace('KA.K2', '')), OperatorSymbol('rho', FullSpace))), ScalarTimesOperator(-I*Delta - eta/2 - kappa/2, OperatorTimes(Create(LocalSpace('KA.K2', '')), Destroy(LocalSpace('KA.K2', '')), OperatorSymbol('rho', FullSpace))), ScalarTimesOperator(-sqrt(2)*sqrt(kappa)*(alpha + beta)/2, OperatorTimes(Create(LocalSpace('KA.K2', '')), OperatorSymbol('rho', FullSpace))), ScalarTimesOperator(sqrt(2)*sqrt(kappa)*(-conjugate(alpha) + conjugate(beta))/2, OperatorTimes(Destroy(LocalSpace('KA.K1', '')), OperatorSymbol('rho', FullSpace))), ScalarTimesOperator(eta + kappa, OperatorTimes(Destroy(LocalSpace('KA.K1', '')), OperatorSymbol('rho', FullSpace), Create(LocalSpace('KA.K1', '')))), ScalarTimesOperator(sqrt(2)*sqrt(kappa)*(conjugate(alpha) + conjugate(beta))/2, OperatorTimes(Destroy(LocalSpace('KA.K2', '')), OperatorSymbol('rho', FullSpace))), ScalarTimesOperator(eta + kappa, OperatorTimes(Destroy(LocalSpace('KA.K2', '')), OperatorSymbol('rho', FullSpace), Create(LocalSpace('KA.K2', '')))), ScalarTimesOperator(sqrt(2)*sqrt(kappa)*(-alpha + beta)/2, OperatorTimes(OperatorSymbol('rho', FullSpace), Create(LocalSpace('KA.K1', '')))), ScalarTimesOperator(I*chi, OperatorTimes(OperatorSymbol('rho', FullSpace), Create(LocalSpace('KA.K1', '')), Create(LocalSpace('KA.K1', '')), Destroy(LocalSpace('KA.K1', '')), Destroy(LocalSpace('KA.K1', '')))), ScalarTimesOperator(I*Delta - eta/2 - kappa/2, OperatorTimes(OperatorSymbol('rho', FullSpace), Create(LocalSpace('KA.K1', '')), Destroy(LocalSpace('KA.K1', '')))), ScalarTimesOperator(sqrt(2)*sqrt(kappa)*(alpha + beta)/2, OperatorTimes(OperatorSymbol('rho', FullSpace), Create(LocalSpace('KA.K2', '')))), ScalarTimesOperator(I*chi, OperatorTimes(OperatorSymbol('rho', FullSpace), Create(LocalSpace('KA.K2', '')), Create(LocalSpace('KA.K2', '')), Destroy(LocalSpace('KA.K2', '')), Destroy(LocalSpace('KA.K2', '')))), ScalarTimesOperator(I*Delta - eta/2 - kappa/2, OperatorTimes(OperatorSymbol('rho', FullSpace), Create(LocalSpace('KA.K2', '')), Destroy(LocalSpace('KA.K2', '')))), ScalarTimesOperator(sqrt(2)*sqrt(kappa)*(conjugate(alpha) - conjugate(beta))/2, OperatorTimes(OperatorSymbol('rho', FullSpace), Destroy(LocalSpace('KA.K1', '')))), ScalarTimesOperator(-sqrt(2)*sqrt(kappa)*(conjugate(alpha) + conjugate(beta))/2, OperatorTimes(OperatorSymbol('rho', FullSpace), Destroy(LocalSpace('KA.K2', '')))))"
       ]
      }
     ],
     "prompt_number": 15
    },
    {
     "cell_type": "code",
     "collapsed": false,
     "input": [
      "(L_KA * rho - Meq_KL).expand()"
     ],
     "language": "python",
     "metadata": {},
     "outputs": [
      {
       "latex": [
        "$0$"
       ],
       "metadata": {},
       "output_type": "pyout",
       "prompt_number": 16,
       "text": [
        "ZeroOperator"
       ]
      }
     ],
     "prompt_number": 16
    },
    {
     "cell_type": "heading",
     "level": 2,
     "metadata": {},
     "source": [
      "Linearization (here only for passive systems, but active easily handled)"
     ]
    },
    {
     "cell_type": "code",
     "collapsed": false,
     "input": [
      "import qnet.misc.kerr_model_matrices as kmm\n",
      "A, B, C, D = kmm.model_matrices_symbolic(KA_driven_SLH, {})[:4]"
     ],
     "language": "python",
     "metadata": {},
     "outputs": [
      {
       "output_type": "stream",
       "stream": "stdout",
       "text": [
        "computing QSDEs\n",
        "Extracting matrices"
       ]
      },
      {
       "output_type": "stream",
       "stream": "stdout",
       "text": [
        "\n"
       ]
      }
     ],
     "prompt_number": 17
    },
    {
     "cell_type": "code",
     "collapsed": false,
     "input": [
      "display(A, B, C, D)"
     ],
     "language": "python",
     "metadata": {},
     "outputs": [
      {
       "latex": [
        "$\\begin{pmatrix} - i \\Delta + 2 i \\chi - \\frac{\\eta}{2} - \\frac{\\kappa}{2} & 0 \\\\ 0 & - i \\Delta + 2 i \\chi - \\frac{\\eta}{2} - \\frac{\\kappa}{2}\\end{pmatrix}$"
       ],
       "metadata": {},
       "output_type": "display_data",
       "text": [
        "Matrix([[-I*Delta + 2*I*chi - eta/2 - kappa/2, 0.0], [0.0, -I*Delta + 2*I*chi - eta/2 - kappa/2]])"
       ]
      },
      {
       "latex": [
        "$\\begin{pmatrix} \\frac{\\sqrt{2} \\sqrt{\\kappa}}{2} & - \\frac{\\sqrt{2} \\sqrt{\\kappa}}{2} & 0 & - \\sqrt{\\eta} \\\\ - \\frac{\\sqrt{2} \\sqrt{\\kappa}}{2} & - \\frac{\\sqrt{2} \\sqrt{\\kappa}}{2} & - \\sqrt{\\eta} & 0\\end{pmatrix}$"
       ],
       "metadata": {},
       "output_type": "display_data",
       "text": [
        "Matrix([[sqrt(2)*sqrt(kappa)/2, -sqrt(2)*sqrt(kappa)/2, 0.0, -sqrt(eta)], [-sqrt(2)*sqrt(kappa)/2, -sqrt(2)*sqrt(kappa)/2, -sqrt(eta), 0.0]])"
       ]
      },
      {
       "latex": [
        "$\\begin{pmatrix} - \\frac{\\sqrt{2} \\sqrt{\\kappa}}{2} & \\frac{\\sqrt{2} \\sqrt{\\kappa}}{2} \\\\ \\frac{\\sqrt{2} \\sqrt{\\kappa}}{2} & \\frac{\\sqrt{2} \\sqrt{\\kappa}}{2} \\\\ 0 & \\sqrt{\\eta} \\\\ \\sqrt{\\eta} & 0\\end{pmatrix}$"
       ],
       "metadata": {},
       "output_type": "display_data",
       "text": [
        "Matrix([[-sqrt(2)*sqrt(kappa)/2, sqrt(2)*sqrt(kappa)/2], [sqrt(2)*sqrt(kappa)/2, sqrt(2)*sqrt(kappa)/2], [0.0, sqrt(eta)], [sqrt(eta), 0.0]])"
       ]
      },
      {
       "latex": [
        "$\\begin{pmatrix} 1 & 0 & 0 & 0 \\\\ 0 & 1 & 0 & 0 \\\\ 0 & 0 & 1 & 0 \\\\ 0 & 0 & 0 & 1\\end{pmatrix}$"
       ],
       "metadata": {},
       "output_type": "display_data",
       "text": [
        "Matrix([[1, 0, 0, 0], [0, 1, 0, 0], [0, 0, 1, 0], [0, 0, 0, 1]])"
       ]
      }
     ],
     "prompt_number": 18
    },
    {
     "cell_type": "heading",
     "level": 3,
     "metadata": {},
     "source": [
      "Displacement to steady state $a_1 \\to a_1 + \\sqrt{n}$"
     ]
    },
    {
     "cell_type": "code",
     "collapsed": false,
     "input": [
      "n = symbols(\"n\", positive=True)\n",
      "a1_sde_disp = a1_sde.substitute({alpha:0, a1: a1 + sqrt(n)*IdentityOperator, a1.dag(): a1.dag() + sqrt(n)*IdentityOperator}).expand().simplify_scalar()\n",
      "a1_sde_disp\n"
     ],
     "language": "python",
     "metadata": {},
     "outputs": [
      {
       "latex": [
        "$ - \\left(\\frac{\\sqrt{2} \\beta}{2} \\sqrt{\\kappa} + 2 i \\chi n^{\\frac{3}{2}} + \\frac{\\sqrt{n}}{2} \\left(2 i \\Delta + \\eta + \\kappa\\right)\\right) -  2 i \\chi n {a_{{{\\rm KA.K1}}}^\\dagger} -  \\left(i \\Delta + 4 i \\chi n + \\frac{\\eta}{2} + \\frac{\\kappa}{2}\\right) {a_{{{\\rm KA.K1}}}} +  \\frac{\\sqrt{2} \\sqrt{\\kappa}}{2} dA_{1}/dt -  \\frac{\\sqrt{2} \\sqrt{\\kappa}}{2} dA_{2}/dt -  \\sqrt{\\eta} dA_{4}/dt -  4 i \\chi \\sqrt{n} {a_{{{\\rm KA.K1}}}^\\dagger} {a_{{{\\rm KA.K1}}}} -  2 i \\chi {a_{{{\\rm KA.K1}}}^\\dagger} {a_{{{\\rm KA.K1}}}} {a_{{{\\rm KA.K1}}}} -  2 i \\chi \\sqrt{n} {a_{{{\\rm KA.K1}}}} {a_{{{\\rm KA.K1}}}}$"
       ],
       "metadata": {},
       "output_type": "pyout",
       "prompt_number": 19,
       "text": [
        "OperatorPlus(ScalarTimesOperator(-sqrt(2)*beta*sqrt(kappa)/2 - 2*I*chi*n**(3/2) - sqrt(n)*(2*I*Delta + eta + kappa)/2, IdentityOperator), ScalarTimesOperator(-2*I*chi*n, Create(LocalSpace('KA.K1', ''))), ScalarTimesOperator(-I*Delta - 4*I*chi*n - eta/2 - kappa/2, Destroy(LocalSpace('KA.K1', ''))), ScalarTimesOperator(sqrt(2)*sqrt(kappa)/2, OperatorSymbol('dA_{1}/dt', LocalSpace('n1', ''))), ScalarTimesOperator(-sqrt(2)*sqrt(kappa)/2, OperatorSymbol('dA_{2}/dt', LocalSpace('n2', ''))), ScalarTimesOperator(-sqrt(eta), OperatorSymbol('dA_{4}/dt', LocalSpace('n4', ''))), ScalarTimesOperator(-4*I*chi*sqrt(n), OperatorTimes(Create(LocalSpace('KA.K1', '')), Destroy(LocalSpace('KA.K1', '')))), ScalarTimesOperator(-2*I*chi, OperatorTimes(Create(LocalSpace('KA.K1', '')), Destroy(LocalSpace('KA.K1', '')), Destroy(LocalSpace('KA.K1', '')))), ScalarTimesOperator(-2*I*chi*sqrt(n), OperatorTimes(Destroy(LocalSpace('KA.K1', '')), Destroy(LocalSpace('KA.K1', '')))))"
       ]
      }
     ],
     "prompt_number": 19
    },
    {
     "cell_type": "code",
     "collapsed": false,
     "input": [
      "inhom = kmm.get_coeffs(a1_sde_disp)[IdentityOperator]\n",
      "inhom"
     ],
     "language": "python",
     "metadata": {},
     "outputs": [
      {
       "latex": [
        "$$- \\frac{\\sqrt{2} \\beta}{2} \\sqrt{\\kappa} - 2 i \\chi n^{\\frac{3}{2}} - \\frac{\\sqrt{n}}{2} \\left(2 i \\Delta + \\eta + \\kappa\\right)$$"
       ],
       "metadata": {},
       "output_type": "pyout",
       "png": "[encoded data removed]",
       "prompt_number": 20,
       "text": [
        "    ___     ___                  ___                \n",
        "  \u2572\u2571 2 \u22c5\u03b2\u22c5\u2572\u2571 \u03ba           3/2   \u2572\u2571 n \u22c5(2\u22c5\u2148\u22c5\u0394 + \u03b7 + \u03ba)\n",
        "- \u2500\u2500\u2500\u2500\u2500\u2500\u2500\u2500\u2500\u2500\u2500\u2500\u2500 - 2\u22c5\u2148\u22c5\u03c7\u22c5n    - \u2500\u2500\u2500\u2500\u2500\u2500\u2500\u2500\u2500\u2500\u2500\u2500\u2500\u2500\u2500\u2500\u2500\u2500\u2500\u2500\u2500\n",
        "        2                                2          "
       ]
      }
     ],
     "prompt_number": 20
    },
    {
     "cell_type": "heading",
     "level": 2,
     "metadata": {},
     "source": [
      "Steady state relationship between photon number $n$ and bias input $\\beta = \\beta(n)$"
     ]
    },
    {
     "cell_type": "code",
     "collapsed": false,
     "input": [
      "beta_sol = sympy.solve(inhom, beta)[0]\n",
      "beta_sol"
     ],
     "language": "python",
     "metadata": {},
     "outputs": [
      {
       "latex": [
        "$$- \\frac{\\sqrt{2} \\sqrt{n}}{2 \\sqrt{\\kappa}} \\left(2 i \\Delta + 4 i \\chi n + \\eta + \\kappa\\right)$$"
       ],
       "metadata": {},
       "output_type": "pyout",
       "png": "[encoded data removed]",
       "prompt_number": 21,
       "text": [
        "   ___   ___                           \n",
        "-\u2572\u2571 2 \u22c5\u2572\u2571 n \u22c5(2\u22c5\u2148\u22c5\u0394 + 4\u22c5\u2148\u22c5\u03c7\u22c5n + \u03b7 + \u03ba) \n",
        "\u2500\u2500\u2500\u2500\u2500\u2500\u2500\u2500\u2500\u2500\u2500\u2500\u2500\u2500\u2500\u2500\u2500\u2500\u2500\u2500\u2500\u2500\u2500\u2500\u2500\u2500\u2500\u2500\u2500\u2500\u2500\u2500\u2500\u2500\u2500\u2500\u2500\u2500\u2500\n",
        "                    ___                \n",
        "                2\u22c5\u2572\u2571 \u03ba                 "
       ]
      }
     ],
     "prompt_number": 21
    },
    {
     "cell_type": "code",
     "collapsed": false,
     "input": [
      "beta_sol_fn = sympy.lambdify((n, kappa, eta, chi, Delta), beta_sol, modules=[\"numpy\"])\n",
      "\n",
      "def plot_input_output(nmax=20., kappa_n=10., Delta_n = 5., chi_n = -.5, eta_n = 0.):\n",
      "    ns = linspace(0, nmax)\n",
      "    beta_ns = beta_sol_fn(ns, kappa_n, eta_n, chi_n, Delta_n)\n",
      "    plot(abs(array(beta_ns))**2, ns)\n",
      "    xlabel(\"Bias drive strength $|\\beta|^2$\")\n",
      "    ylabel(\"Intra cavity photon number\")\n",
      "\n",
      "from IPython.html.widgets import interact\n",
      "\n",
      "ipio = interact(plot_input_output, \n",
      "         nmax=(10., 120., 5.),\n",
      "         kappa_n=(1., 100., 1.),\n",
      "         eta_n=(0., 5., 1.),\n",
      "         chi_n=(-1., 1., .05),\n",
      "         Delta_n=(-20., 20.,.1))"
     ],
     "language": "python",
     "metadata": {},
     "outputs": [
      {
       "metadata": {},
       "output_type": "display_data",
       "png": "[encoded data removed]",
       "text": [
        "<matplotlib.figure.Figure at 0x108f011d0>"
       ]
      }
     ],
     "prompt_number": 22
    },
    {
     "cell_type": "heading",
     "level": 2,
     "metadata": {},
     "source": [
      "Can transform model such that steady state is effective vacuum"
     ]
    },
    {
     "cell_type": "code",
     "collapsed": false,
     "input": [
      "KA_disp = KA_driven_SLH.substitute({\n",
      "    beta: beta_sol,\n",
      "    a1: a1 + sqrt(n),\n",
      "    a1.dag(): a1.dag() + sqrt(n),\n",
      "    a2: a2 + sqrt(n),\n",
      "    a2.dag(): a2.dag() + sqrt(n),\n",
      "}).expand().simplify_scalar()"
     ],
     "language": "python",
     "metadata": {},
     "outputs": [],
     "prompt_number": 23
    },
    {
     "cell_type": "code",
     "collapsed": false,
     "input": [
      "KA_disp"
     ],
     "language": "python",
     "metadata": {},
     "outputs": [
      {
       "latex": [
        "$\\left( \\begin{pmatrix} 1 & 0 & 0 & 0 \\\\ 0 & 1 & 0 & 0 \\\\ 0 & 0 & 1 & 0 \\\\ 0 & 0 & 0 & 1\\end{pmatrix}, \\begin{pmatrix}  \\alpha -  \\frac{\\sqrt{2} \\sqrt{\\kappa}}{2} {a_{{{\\rm KA.K1}}}} +  \\frac{\\sqrt{2} \\sqrt{\\kappa}}{2} {a_{{{\\rm KA.K2}}}} \\\\  \\frac{\\sqrt{2} \\sqrt{n}}{2 \\sqrt{\\kappa}} \\left(- 2 i \\Delta - 4 i \\chi n - \\eta + \\kappa\\right) +  \\frac{\\sqrt{2} \\sqrt{\\kappa}}{2} {a_{{{\\rm KA.K1}}}} +  \\frac{\\sqrt{2} \\sqrt{\\kappa}}{2} {a_{{{\\rm KA.K2}}}} \\\\  \\sqrt{\\eta} \\sqrt{n} +  \\sqrt{\\eta} {a_{{{\\rm KA.K2}}}} \\\\  \\sqrt{\\eta} \\sqrt{n} +  \\sqrt{\\eta} {a_{{{\\rm KA.K1}}}}\\end{pmatrix},  - 2 \\chi n^{2} +  \\left(\\frac{\\Delta \\sqrt{n}}{2} + \\frac{i \\alpha}{4} \\sqrt{2} \\sqrt{\\kappa} + \\chi n^{\\frac{3}{2}} + \\frac{i \\eta}{4} \\sqrt{n} + \\frac{i \\kappa}{4} \\sqrt{n}\\right) {a_{{{\\rm KA.K1}}}^\\dagger} +  \\left(\\frac{\\Delta \\sqrt{n}}{2} - \\frac{i \\alpha}{4} \\sqrt{2} \\sqrt{\\kappa} + \\chi n^{\\frac{3}{2}} + \\frac{i \\eta}{4} \\sqrt{n} + \\frac{i \\kappa}{4} \\sqrt{n}\\right) {a_{{{\\rm KA.K2}}}^\\dagger} +  \\left(\\frac{\\Delta \\sqrt{n}}{2} + \\chi n^{\\frac{3}{2}} - \\frac{i \\eta}{4} \\sqrt{n} - \\frac{\\sqrt{2} i}{4} \\sqrt{\\kappa} \\overline{\\alpha} - \\frac{i \\kappa}{4} \\sqrt{n}\\right) {a_{{{\\rm KA.K1}}}} +  \\left(\\frac{\\Delta \\sqrt{n}}{2} + \\chi n^{\\frac{3}{2}} - \\frac{i \\eta}{4} \\sqrt{n} + \\frac{\\sqrt{2} i}{4} \\sqrt{\\kappa} \\overline{\\alpha} - \\frac{i \\kappa}{4} \\sqrt{n}\\right) {a_{{{\\rm KA.K2}}}} +  \\chi n {a_{{{\\rm KA.K1}}}^\\dagger} {a_{{{\\rm KA.K1}}}^\\dagger} +  2 \\chi \\sqrt{n} {a_{{{\\rm KA.K1}}}^\\dagger} {a_{{{\\rm KA.K1}}}^\\dagger} {a_{{{\\rm KA.K1}}}} +  \\chi {a_{{{\\rm KA.K1}}}^\\dagger} {a_{{{\\rm KA.K1}}}^\\dagger} {a_{{{\\rm KA.K1}}}} {a_{{{\\rm KA.K1}}}} +  \\left(\\Delta + 4 \\chi n\\right) {a_{{{\\rm KA.K1}}}^\\dagger} {a_{{{\\rm KA.K1}}}} +  2 \\chi \\sqrt{n} {a_{{{\\rm KA.K1}}}^\\dagger} {a_{{{\\rm KA.K1}}}} {a_{{{\\rm KA.K1}}}} +  \\chi n {a_{{{\\rm KA.K2}}}^\\dagger} {a_{{{\\rm KA.K2}}}^\\dagger} +  2 \\chi \\sqrt{n} {a_{{{\\rm KA.K2}}}^\\dagger} {a_{{{\\rm KA.K2}}}^\\dagger} {a_{{{\\rm KA.K2}}}} +  \\chi {a_{{{\\rm KA.K2}}}^\\dagger} {a_{{{\\rm KA.K2}}}^\\dagger} {a_{{{\\rm KA.K2}}}} {a_{{{\\rm KA.K2}}}} +  \\left(\\Delta + 4 \\chi n\\right) {a_{{{\\rm KA.K2}}}^\\dagger} {a_{{{\\rm KA.K2}}}} +  2 \\chi \\sqrt{n} {a_{{{\\rm KA.K2}}}^\\dagger} {a_{{{\\rm KA.K2}}}} {a_{{{\\rm KA.K2}}}} +  \\chi n {a_{{{\\rm KA.K1}}}} {a_{{{\\rm KA.K1}}}} +  \\chi n {a_{{{\\rm KA.K2}}}} {a_{{{\\rm KA.K2}}}} \\right)$"
       ],
       "metadata": {},
       "output_type": "pyout",
       "prompt_number": 24,
       "text": [
        "SLH(Matrix([[1, 0, 0, 0], [0, 1, 0, 0], [0, 0, 1, 0], [0, 0, 0, 1]]), Matrix([[OperatorPlus(ScalarTimesOperator(alpha, IdentityOperator), ScalarTimesOperator(-sqrt(2)*sqrt(kappa)/2, Destroy(LocalSpace('KA.K1', ''))), ScalarTimesOperator(sqrt(2)*sqrt(kappa)/2, Destroy(LocalSpace('KA.K2', ''))))], [OperatorPlus(ScalarTimesOperator(sqrt(2)*sqrt(n)*(-2*I*Delta - 4*I*chi*n - eta + kappa)/(2*sqrt(kappa)), IdentityOperator), ScalarTimesOperator(sqrt(2)*sqrt(kappa)/2, Destroy(LocalSpace('KA.K1', ''))), ScalarTimesOperator(sqrt(2)*sqrt(kappa)/2, Destroy(LocalSpace('KA.K2', ''))))], [OperatorPlus(ScalarTimesOperator(sqrt(eta)*sqrt(n), IdentityOperator), ScalarTimesOperator(sqrt(eta), Destroy(LocalSpace('KA.K2', ''))))], [OperatorPlus(ScalarTimesOperator(sqrt(eta)*sqrt(n), IdentityOperator), ScalarTimesOperator(sqrt(eta), Destroy(LocalSpace('KA.K1', ''))))]]), OperatorPlus(ScalarTimesOperator(-2*chi*n**2, IdentityOperator), ScalarTimesOperator(Delta*sqrt(n)/2 + sqrt(2)*I*alpha*sqrt(kappa)/4 + chi*n**(3/2) + I*eta*sqrt(n)/4 + I*kappa*sqrt(n)/4, Create(LocalSpace('KA.K1', ''))), ScalarTimesOperator(Delta*sqrt(n)/2 - sqrt(2)*I*alpha*sqrt(kappa)/4 + chi*n**(3/2) + I*eta*sqrt(n)/4 + I*kappa*sqrt(n)/4, Create(LocalSpace('KA.K2', ''))), ScalarTimesOperator(Delta*sqrt(n)/2 + chi*n**(3/2) - I*eta*sqrt(n)/4 - sqrt(2)*I*sqrt(kappa)*conjugate(alpha)/4 - I*kappa*sqrt(n)/4, Destroy(LocalSpace('KA.K1', ''))), ScalarTimesOperator(Delta*sqrt(n)/2 + chi*n**(3/2) - I*eta*sqrt(n)/4 + sqrt(2)*I*sqrt(kappa)*conjugate(alpha)/4 - I*kappa*sqrt(n)/4, Destroy(LocalSpace('KA.K2', ''))), ScalarTimesOperator(chi*n, OperatorTimes(Create(LocalSpace('KA.K1', '')), Create(LocalSpace('KA.K1', '')))), ScalarTimesOperator(2*chi*sqrt(n), OperatorTimes(Create(LocalSpace('KA.K1', '')), Create(LocalSpace('KA.K1', '')), Destroy(LocalSpace('KA.K1', '')))), ScalarTimesOperator(chi, OperatorTimes(Create(LocalSpace('KA.K1', '')), Create(LocalSpace('KA.K1', '')), Destroy(LocalSpace('KA.K1', '')), Destroy(LocalSpace('KA.K1', '')))), ScalarTimesOperator(Delta + 4*chi*n, OperatorTimes(Create(LocalSpace('KA.K1', '')), Destroy(LocalSpace('KA.K1', '')))), ScalarTimesOperator(2*chi*sqrt(n), OperatorTimes(Create(LocalSpace('KA.K1', '')), Destroy(LocalSpace('KA.K1', '')), Destroy(LocalSpace('KA.K1', '')))), ScalarTimesOperator(chi*n, OperatorTimes(Create(LocalSpace('KA.K2', '')), Create(LocalSpace('KA.K2', '')))), ScalarTimesOperator(2*chi*sqrt(n), OperatorTimes(Create(LocalSpace('KA.K2', '')), Create(LocalSpace('KA.K2', '')), Destroy(LocalSpace('KA.K2', '')))), ScalarTimesOperator(chi, OperatorTimes(Create(LocalSpace('KA.K2', '')), Create(LocalSpace('KA.K2', '')), Destroy(LocalSpace('KA.K2', '')), Destroy(LocalSpace('KA.K2', '')))), ScalarTimesOperator(Delta + 4*chi*n, OperatorTimes(Create(LocalSpace('KA.K2', '')), Destroy(LocalSpace('KA.K2', '')))), ScalarTimesOperator(2*chi*sqrt(n), OperatorTimes(Create(LocalSpace('KA.K2', '')), Destroy(LocalSpace('KA.K2', '')), Destroy(LocalSpace('KA.K2', '')))), ScalarTimesOperator(chi*n, OperatorTimes(Destroy(LocalSpace('KA.K1', '')), Destroy(LocalSpace('KA.K1', '')))), ScalarTimesOperator(chi*n, OperatorTimes(Destroy(LocalSpace('KA.K2', '')), Destroy(LocalSpace('KA.K2', ''))))))"
       ]
      }
     ],
     "prompt_number": 24
    },
    {
     "cell_type": "heading",
     "level": 2,
     "metadata": {},
     "source": [
      "Cancel constant pseudo drive term by feeding into downstream displacement"
     ]
    },
    {
     "cell_type": "markdown",
     "metadata": {},
     "source": [
      "The resulting model has (if it's stable) $\\langle a_{1/2}\\rangle= 0$ for $\\alpha=0$"
     ]
    },
    {
     "cell_type": "code",
     "collapsed": false,
     "input": [
      "KA_disp_corr = (cid(4).coherent_input(0, -KA_disp.L[1,0].operands[0], -KA_disp.L[2,0].operands[0], -KA_disp.L[3,0].operands[0]) << KA_disp).toSLH().expand().simplify_scalar()\n",
      "KA_disp_corr"
     ],
     "language": "python",
     "metadata": {},
     "outputs": [
      {
       "latex": [
        "$\\left( \\begin{pmatrix} 1 & 0 & 0 & 0 \\\\ 0 & 1 & 0 & 0 \\\\ 0 & 0 & 1 & 0 \\\\ 0 & 0 & 0 & 1\\end{pmatrix}, \\begin{pmatrix}  \\alpha -  \\frac{\\sqrt{2} \\sqrt{\\kappa}}{2} {a_{{{\\rm KA.K1}}}} +  \\frac{\\sqrt{2} \\sqrt{\\kappa}}{2} {a_{{{\\rm KA.K2}}}} \\\\  \\frac{\\sqrt{2} \\sqrt{\\kappa}}{2} {a_{{{\\rm KA.K1}}}} +  \\frac{\\sqrt{2} \\sqrt{\\kappa}}{2} {a_{{{\\rm KA.K2}}}} \\\\  \\sqrt{\\eta} {a_{{{\\rm KA.K2}}}} \\\\  \\sqrt{\\eta} {a_{{{\\rm KA.K1}}}}\\end{pmatrix},  - 2 \\chi n^{2} +  \\frac{i \\alpha}{4} \\sqrt{2} \\sqrt{\\kappa} {a_{{{\\rm KA.K1}}}^\\dagger} -  \\frac{i \\alpha}{4} \\sqrt{2} \\sqrt{\\kappa} {a_{{{\\rm KA.K2}}}^\\dagger} -  \\frac{\\sqrt{2} i}{4} \\sqrt{\\kappa} \\overline{\\alpha} {a_{{{\\rm KA.K1}}}} +  \\frac{\\sqrt{2} i}{4} \\sqrt{\\kappa} \\overline{\\alpha} {a_{{{\\rm KA.K2}}}} +  \\chi n {a_{{{\\rm KA.K1}}}^\\dagger} {a_{{{\\rm KA.K1}}}^\\dagger} +  2 \\chi \\sqrt{n} {a_{{{\\rm KA.K1}}}^\\dagger} {a_{{{\\rm KA.K1}}}^\\dagger} {a_{{{\\rm KA.K1}}}} +  \\chi {a_{{{\\rm KA.K1}}}^\\dagger} {a_{{{\\rm KA.K1}}}^\\dagger} {a_{{{\\rm KA.K1}}}} {a_{{{\\rm KA.K1}}}} +  \\left(\\Delta + 4 \\chi n\\right) {a_{{{\\rm KA.K1}}}^\\dagger} {a_{{{\\rm KA.K1}}}} +  2 \\chi \\sqrt{n} {a_{{{\\rm KA.K1}}}^\\dagger} {a_{{{\\rm KA.K1}}}} {a_{{{\\rm KA.K1}}}} +  \\chi n {a_{{{\\rm KA.K2}}}^\\dagger} {a_{{{\\rm KA.K2}}}^\\dagger} +  2 \\chi \\sqrt{n} {a_{{{\\rm KA.K2}}}^\\dagger} {a_{{{\\rm KA.K2}}}^\\dagger} {a_{{{\\rm KA.K2}}}} +  \\chi {a_{{{\\rm KA.K2}}}^\\dagger} {a_{{{\\rm KA.K2}}}^\\dagger} {a_{{{\\rm KA.K2}}}} {a_{{{\\rm KA.K2}}}} +  \\left(\\Delta + 4 \\chi n\\right) {a_{{{\\rm KA.K2}}}^\\dagger} {a_{{{\\rm KA.K2}}}} +  2 \\chi \\sqrt{n} {a_{{{\\rm KA.K2}}}^\\dagger} {a_{{{\\rm KA.K2}}}} {a_{{{\\rm KA.K2}}}} +  \\chi n {a_{{{\\rm KA.K1}}}} {a_{{{\\rm KA.K1}}}} +  \\chi n {a_{{{\\rm KA.K2}}}} {a_{{{\\rm KA.K2}}}} \\right)$"
       ],
       "metadata": {},
       "output_type": "pyout",
       "prompt_number": 25,
       "text": [
        "SLH(Matrix([[1, 0, 0, 0], [0, 1, 0, 0], [0, 0, 1, 0], [0, 0, 0, 1]]), Matrix([[OperatorPlus(ScalarTimesOperator(alpha, IdentityOperator), ScalarTimesOperator(-sqrt(2)*sqrt(kappa)/2, Destroy(LocalSpace('KA.K1', ''))), ScalarTimesOperator(sqrt(2)*sqrt(kappa)/2, Destroy(LocalSpace('KA.K2', ''))))], [OperatorPlus(ScalarTimesOperator(sqrt(2)*sqrt(kappa)/2, Destroy(LocalSpace('KA.K1', ''))), ScalarTimesOperator(sqrt(2)*sqrt(kappa)/2, Destroy(LocalSpace('KA.K2', ''))))], [ScalarTimesOperator(sqrt(eta), Destroy(LocalSpace('KA.K2', '')))], [ScalarTimesOperator(sqrt(eta), Destroy(LocalSpace('KA.K1', '')))]]), OperatorPlus(ScalarTimesOperator(-2*chi*n**2, IdentityOperator), ScalarTimesOperator(sqrt(2)*I*alpha*sqrt(kappa)/4, Create(LocalSpace('KA.K1', ''))), ScalarTimesOperator(-sqrt(2)*I*alpha*sqrt(kappa)/4, Create(LocalSpace('KA.K2', ''))), ScalarTimesOperator(-sqrt(2)*I*sqrt(kappa)*conjugate(alpha)/4, Destroy(LocalSpace('KA.K1', ''))), ScalarTimesOperator(sqrt(2)*I*sqrt(kappa)*conjugate(alpha)/4, Destroy(LocalSpace('KA.K2', ''))), ScalarTimesOperator(chi*n, OperatorTimes(Create(LocalSpace('KA.K1', '')), Create(LocalSpace('KA.K1', '')))), ScalarTimesOperator(2*chi*sqrt(n), OperatorTimes(Create(LocalSpace('KA.K1', '')), Create(LocalSpace('KA.K1', '')), Destroy(LocalSpace('KA.K1', '')))), ScalarTimesOperator(chi, OperatorTimes(Create(LocalSpace('KA.K1', '')), Create(LocalSpace('KA.K1', '')), Destroy(LocalSpace('KA.K1', '')), Destroy(LocalSpace('KA.K1', '')))), ScalarTimesOperator(Delta + 4*chi*n, OperatorTimes(Create(LocalSpace('KA.K1', '')), Destroy(LocalSpace('KA.K1', '')))), ScalarTimesOperator(2*chi*sqrt(n), OperatorTimes(Create(LocalSpace('KA.K1', '')), Destroy(LocalSpace('KA.K1', '')), Destroy(LocalSpace('KA.K1', '')))), ScalarTimesOperator(chi*n, OperatorTimes(Create(LocalSpace('KA.K2', '')), Create(LocalSpace('KA.K2', '')))), ScalarTimesOperator(2*chi*sqrt(n), OperatorTimes(Create(LocalSpace('KA.K2', '')), Create(LocalSpace('KA.K2', '')), Destroy(LocalSpace('KA.K2', '')))), ScalarTimesOperator(chi, OperatorTimes(Create(LocalSpace('KA.K2', '')), Create(LocalSpace('KA.K2', '')), Destroy(LocalSpace('KA.K2', '')), Destroy(LocalSpace('KA.K2', '')))), ScalarTimesOperator(Delta + 4*chi*n, OperatorTimes(Create(LocalSpace('KA.K2', '')), Destroy(LocalSpace('KA.K2', '')))), ScalarTimesOperator(2*chi*sqrt(n), OperatorTimes(Create(LocalSpace('KA.K2', '')), Destroy(LocalSpace('KA.K2', '')), Destroy(LocalSpace('KA.K2', '')))), ScalarTimesOperator(chi*n, OperatorTimes(Destroy(LocalSpace('KA.K1', '')), Destroy(LocalSpace('KA.K1', '')))), ScalarTimesOperator(chi*n, OperatorTimes(Destroy(LocalSpace('KA.K2', '')), Destroy(LocalSpace('KA.K2', ''))))))"
       ]
      }
     ],
     "prompt_number": 25
    },
    {
     "cell_type": "code",
     "collapsed": false,
     "input": [],
     "language": "python",
     "metadata": {},
     "outputs": []
    }
   ],
   "metadata": {}
  }
 ]
}