{
 "metadata": {
  "name": "",
  "signature": "sha256:c1c98a2ec9d34e7daf6aede38780bf70908fba7bd2732d7ba715f7c05b06defa"
 },
 "nbformat": 3,
 "nbformat_minor": 0,
 "worksheets": [
  {
   "cells": [
    {
     "cell_type": "code",
     "collapsed": false,
     "input": [
      "import sys\n",
      "import os; \n",
      "QNET = os.getenv(\"QNET\")"
     ],
     "language": "python",
     "metadata": {},
     "outputs": [],
     "prompt_number": 1
    },
    {
     "cell_type": "heading",
     "level": 2,
     "metadata": {},
     "source": [
      "Import the circuit algebra (and the operator algebra)"
     ]
    },
    {
     "cell_type": "code",
     "collapsed": false,
     "input": [
      "from qnet.algebra.circuit_algebra import *"
     ],
     "language": "python",
     "metadata": {},
     "outputs": [],
     "prompt_number": 2
    },
    {
     "cell_type": "heading",
     "level": 1,
     "metadata": {},
     "source": [
      "circuit components: beamsplitter, phaseshifter, coherent displacement, Kerr cavity"
     ]
    },
    {
     "cell_type": "code",
     "collapsed": false,
     "input": [
      "from qnet.circuit_components.beamsplitter_cc import Beamsplitter\n",
      "from qnet.circuit_components.phase_cc import Phase\n",
      "from qnet.circuit_components.displace_cc import Displace\n",
      "from qnet.circuit_components.kerr_cavity_cc import KerrCavity"
     ],
     "language": "python",
     "metadata": {},
     "outputs": [],
     "prompt_number": 3
    },
    {
     "cell_type": "markdown",
     "metadata": {},
     "source": [
      "These commmands import pre-defined component models that are stored in the QNET package.\n",
      "To see what other models are defined, run the following command"
     ]
    },
    {
     "cell_type": "code",
     "collapsed": false,
     "input": [
      "component_files = !ls $QNET/qnet/circuit_components/*_cc.py\n",
      "component_names = [os.path.basename(cf)[:-6] for cf in component_files]\n",
      "component_names"
     ],
     "language": "python",
     "metadata": {},
     "outputs": [
      {
       "metadata": {},
       "output_type": "pyout",
       "prompt_number": 4,
       "text": [
        "['and',\n",
        " 'beamsplitter',\n",
        " 'delay',\n",
        " 'displace',\n",
        " 'double_beamsplitter',\n",
        " 'double_sided_jaynes_cummings',\n",
        " 'double_sided_opo',\n",
        " 'inverting_fanout',\n",
        " 'kerr_amplifier',\n",
        " 'kerr_cavity',\n",
        " 'kerr_oscillator2',\n",
        " 'kerr_oscillator',\n",
        " 'latch',\n",
        " 'linear_cavity',\n",
        " 'mach_zehnder',\n",
        " 'open_lossy',\n",
        " 'phase',\n",
        " 'phase_lock2',\n",
        " 'phase_lock3',\n",
        " 'phase_lock',\n",
        " 'pseudo_nand',\n",
        " 'pseudo_nand_latch',\n",
        " 'relay',\n",
        " 'single_sided_jaynes_cummings',\n",
        " 'single_sided_opo',\n",
        " 'three_port_kerr_cavity',\n",
        " 'three_port_opo',\n",
        " 'two_port_kerr_cavity',\n",
        " 'zprobe_cavity']"
       ]
      }
     ],
     "prompt_number": 4
    },
    {
     "cell_type": "markdown",
     "metadata": {},
     "source": [
      "The component models are stored in the folder `$QNET/qnet/circuit_components` in python files ending with `_cc.py` (cc for circuit component).\n",
      "\n",
      "We will now interact with the few components that we imported above. Each circuit component has a `show()` method which visualizes the circuit expression graphically. It also as a `toSLH()` method, that produces an `SLH` container object."
     ]
    },
    {
     "cell_type": "heading",
     "level": 1,
     "metadata": {},
     "source": [
      "Static components without internal dynamics"
     ]
    },
    {
     "cell_type": "heading",
     "level": 2,
     "metadata": {},
     "source": [
      "Beamsplitter"
     ]
    },
    {
     "cell_type": "markdown",
     "metadata": {},
     "source": [
      "The beamsplitter is one of the simplest model with a non-trivial scattering matrix. In fact most basic component models (simple resonators, coherent displacements) have a trivial scattering matrix."
     ]
    },
    {
     "cell_type": "code",
     "collapsed": false,
     "input": [
      "B = Beamsplitter(\"BS1\")\n",
      "B.show()"
     ],
     "language": "python",
     "metadata": {},
     "outputs": [
      {
       "output_type": "stream",
       "stream": "stderr",
       "text": [
        "Ignoring line 14085 in mapping file 'psfonts.map': Unknown token '<MinLibBol'\n",
        "Ignoring line 14086 in mapping file 'psfonts.map': Unknown token '<MinLibBol'\n",
        "Ignoring line 14087 in mapping file 'psfonts.map': Unknown token '<MinLibBol'\n",
        "Ignoring line 14088 in mapping file 'psfonts.map': Unknown token '<MinLibBolIta'\n",
        "Ignoring line 14089 in mapping file 'psfonts.map': Unknown token '<MinLibBolIta'\n",
        "Ignoring line 14090 in mapping file 'psfonts.map': Unknown token '<MinLibBolIta'\n",
        "Ignoring line 14091 in mapping file 'psfonts.map': Unknown token '<MinLibIta'\n",
        "Ignoring line 14092 in mapping file 'psfonts.map': Unknown token '<MinLibIta'\n",
        "Ignoring line 14093 in mapping file 'psfonts.map': Unknown token '<MinLibIta'\n",
        "Ignoring line 14094 in mapping file 'psfonts.map': Unknown token '<MinLibReg'\n",
        "Ignoring line 14095 in mapping file 'psfonts.map': Unknown token '<MinLibReg'\n",
        "Ignoring line 14096 in mapping file 'psfonts.map': Unknown token '<MinLibReg'\n"
       ]
      },
      {
       "metadata": {},
       "output_type": "display_data",
       "png": "[encoded data removed]",
       "text": [
        "<IPython.core.display.Image at 0x1084ce050>"
       ]
      }
     ],
     "prompt_number": 5
    },
    {
     "cell_type": "markdown",
     "metadata": {},
     "source": [
      "The argument `\"BS\"` passed to the `Beamsplitter` constructor defines the name of the circuit element. For static components this name is unimportant and in particular need not be unique. For dynamic components, however, it is important to specify a unique name because this is important to distinguish between operators acting on different degrees of freedom and thus informs their commutation relations."
     ]
    },
    {
     "cell_type": "code",
     "collapsed": false,
     "input": [
      "B.toSLH()"
     ],
     "language": "python",
     "metadata": {},
     "outputs": [
      {
       "latex": [
        "$\\left( \\begin{pmatrix} \\frac{\\sqrt{2}}{2} & - \\frac{\\sqrt{2}}{2} \\\\ \\frac{\\sqrt{2}}{2} & \\frac{\\sqrt{2}}{2}\\end{pmatrix}, \\begin{pmatrix} 0 \\\\ 0\\end{pmatrix}, {\\rm 0} \\right)$"
       ],
       "metadata": {},
       "output_type": "pyout",
       "prompt_number": 6,
       "text": [
        "SLH(Matrix([[sqrt(2)/2, -sqrt(2)/2], [sqrt(2)/2, sqrt(2)/2]]), Matrix([[0], [0]]), 0)"
       ]
      }
     ],
     "prompt_number": 6
    },
    {
     "cell_type": "markdown",
     "metadata": {},
     "source": [
      "We see that a standard 50/50 beamsplitter SLH element has been produced. For a beamsplitter with variable mixing angle, you can pass an argument `theta` to the `Beamsplitter` constructor."
     ]
    },
    {
     "cell_type": "code",
     "collapsed": false,
     "input": [
      "B2 = Beamsplitter(\"BS2\", theta=0) # theta=0 --> no mixing of inputs.\n",
      "B2.toSLH()"
     ],
     "language": "python",
     "metadata": {},
     "outputs": [
      {
       "latex": [
        "$\\left( \\begin{pmatrix} 1 & 0 \\\\ 0 & 1\\end{pmatrix}, \\begin{pmatrix} 0 \\\\ 0\\end{pmatrix}, {\\rm 0} \\right)$"
       ],
       "metadata": {},
       "output_type": "pyout",
       "prompt_number": 7,
       "text": [
        "SLH(Matrix([[1, 0], [0, 1]]), Matrix([[0], [0]]), 0)"
       ]
      }
     ],
     "prompt_number": 7
    },
    {
     "cell_type": "markdown",
     "metadata": {},
     "source": [
      "Rather than specifying a numeric value of a parameter, we can also specify parameters symbolically by using `Symbol` objects from the `SymPy` package. This package features a function called `symbols()` which can be used to define one or more symbolic variables as well as some additional assumptions about their numeric domain (such as being real-valued or positive-valued)."
     ]
    },
    {
     "cell_type": "code",
     "collapsed": false,
     "input": [
      "theta = symbols(\"theta\")\n",
      "theta.is_real, theta.is_positive"
     ],
     "language": "python",
     "metadata": {},
     "outputs": [
      {
       "metadata": {},
       "output_type": "pyout",
       "prompt_number": 8,
       "text": [
        "(None, None)"
       ]
      }
     ],
     "prompt_number": 8
    },
    {
     "cell_type": "code",
     "collapsed": false,
     "input": [
      "theta_r = symbols(\"theta_r\", real=True)\n",
      "theta_r.is_real, theta_r.is_positive"
     ],
     "language": "python",
     "metadata": {},
     "outputs": [
      {
       "metadata": {},
       "output_type": "pyout",
       "prompt_number": 9,
       "text": [
        "(True, None)"
       ]
      }
     ],
     "prompt_number": 9
    },
    {
     "cell_type": "code",
     "collapsed": false,
     "input": [
      "theta_p = symbols(\"theta_p\", positive=True)\n",
      "theta_p.is_real, theta_p.is_positive"
     ],
     "language": "python",
     "metadata": {},
     "outputs": [
      {
       "metadata": {},
       "output_type": "pyout",
       "prompt_number": 10,
       "text": [
        "(True, True)"
       ]
      }
     ],
     "prompt_number": 10
    },
    {
     "cell_type": "markdown",
     "metadata": {},
     "source": [
      "This can be used for expression simplification. E.g.,"
     ]
    },
    {
     "cell_type": "code",
     "collapsed": false,
     "input": [
      "sqrt(theta**2), sqrt(theta_r**2), sqrt(theta_p**2)"
     ],
     "language": "python",
     "metadata": {},
     "outputs": [
      {
       "metadata": {},
       "output_type": "pyout",
       "prompt_number": 11,
       "text": [
        "(sqrt(theta**2), Abs(theta_r), theta_p)"
       ]
      }
     ],
     "prompt_number": 11
    },
    {
     "cell_type": "heading",
     "level": 2,
     "metadata": {},
     "source": [
      "Phase"
     ]
    },
    {
     "cell_type": "markdown",
     "metadata": {},
     "source": [
      "The phase shifting element has a single element scattering matrix that just imparts a phase factor $e^{i\\phi}$ on a scattered beam."
     ]
    },
    {
     "cell_type": "code",
     "collapsed": false,
     "input": [
      "phi = symbols(\"phi\", real=True)\n",
      "P = Phase(\"P1\", phi=phi)\n",
      "P.show()"
     ],
     "language": "python",
     "metadata": {},
     "outputs": [
      {
       "metadata": {},
       "output_type": "display_data",
       "png": "[encoded data removed]",
       "text": [
        "<IPython.core.display.Image at 0x107d43c90>"
       ]
      }
     ],
     "prompt_number": 13
    },
    {
     "cell_type": "code",
     "collapsed": false,
     "input": [
      "P.toSLH()"
     ],
     "language": "python",
     "metadata": {},
     "outputs": [
      {
       "latex": [
        "$\\left( \\begin{pmatrix} e^{i \\phi}\\end{pmatrix}, \\begin{pmatrix} 0\\end{pmatrix}, {\\rm 0} \\right)$"
       ],
       "metadata": {},
       "output_type": "pyout",
       "prompt_number": 14,
       "text": [
        "SLH(Matrix([[exp(I*phi)]]), Matrix([[0]]), 0)"
       ]
      }
     ],
     "prompt_number": 14
    },
    {
     "cell_type": "heading",
     "level": 2,
     "metadata": {},
     "source": [
      "Coherent field displacement (laser source)"
     ]
    },
    {
     "cell_type": "markdown",
     "metadata": {},
     "source": [
      "The coherent displacement takes as parameter a complex coherent amplitude $\\alpha$."
     ]
    },
    {
     "cell_type": "code",
     "collapsed": false,
     "input": [
      "alpha = symbols(\"alpha\", real=True)\n",
      "W = Displace(\"W\", alpha=alpha)\n",
      "W.show()"
     ],
     "language": "python",
     "metadata": {},
     "outputs": [
      {
       "metadata": {},
       "output_type": "display_data",
       "png": "[encoded data removed]",
       "text": [
        "<IPython.core.display.Image at 0x1084b5c10>"
       ]
      }
     ],
     "prompt_number": 15
    },
    {
     "cell_type": "code",
     "collapsed": false,
     "input": [
      "W.toSLH()"
     ],
     "language": "python",
     "metadata": {},
     "outputs": [
      {
       "latex": [
        "$\\left( \\begin{pmatrix} 1\\end{pmatrix}, \\begin{pmatrix} \\alpha\\end{pmatrix}, {\\rm 0} \\right)$"
       ],
       "metadata": {},
       "output_type": "pyout",
       "prompt_number": 16,
       "text": [
        "SLH(Matrix([[1]]), Matrix([[alpha]]), 0)"
       ]
      }
     ],
     "prompt_number": 16
    },
    {
     "cell_type": "heading",
     "level": 2,
     "metadata": {},
     "source": [
      "Kerr Cavity"
     ]
    },
    {
     "cell_type": "markdown",
     "metadata": {},
     "source": [
      "Kerr-nonlinear cavities are in some sense the simplest non-linear oscillator models, because it is not necessary to model more than a single resonant mode. Moreover, the interpretation of an energy dependent detuning $\\Delta(n) = \\Delta + \\chi (n-1)$ is easy to understand intuitively."
     ]
    },
    {
     "cell_type": "code",
     "collapsed": false,
     "input": [
      "K = KerrCavity(\"K1\")\n",
      "K.show()"
     ],
     "language": "python",
     "metadata": {},
     "outputs": [
      {
       "metadata": {},
       "output_type": "display_data",
       "png": "[encoded data removed]",
       "text": [
        "<IPython.core.display.Image at 0x1098c02d0>"
       ]
      }
     ],
     "prompt_number": 17
    },
    {
     "cell_type": "code",
     "collapsed": false,
     "input": [
      "K.toSLH()"
     ],
     "language": "python",
     "metadata": {},
     "outputs": [
      {
       "latex": [
        "$\\left( \\begin{pmatrix} 1 & 0 \\\\ 0 & 1\\end{pmatrix}, \\begin{pmatrix}  \\sqrt{\\kappa_{1}} {a_{{{\\rm K1}}}} \\\\  \\sqrt{\\kappa_{2}} {a_{{{\\rm K1}}}}\\end{pmatrix},  \\chi {a_{{{\\rm K1}}}^\\dagger} {a_{{{\\rm K1}}}^\\dagger} {a_{{{\\rm K1}}}} {a_{{{\\rm K1}}}} +  \\Delta {a_{{{\\rm K1}}}^\\dagger} {a_{{{\\rm K1}}}} \\right)$"
       ],
       "metadata": {},
       "output_type": "pyout",
       "prompt_number": 18,
       "text": [
        "SLH(Matrix([[1, 0], [0, 1]]), Matrix([[ScalarTimesOperator(sqrt(kappa_1), Destroy(LocalSpace('K1', '')))], [ScalarTimesOperator(sqrt(kappa_2), Destroy(LocalSpace('K1', '')))]]), OperatorPlus(ScalarTimesOperator(chi, OperatorTimes(Create(LocalSpace('K1', '')), Create(LocalSpace('K1', '')), Destroy(LocalSpace('K1', '')), Destroy(LocalSpace('K1', '')))), ScalarTimesOperator(Delta, OperatorTimes(Create(LocalSpace('K1', '')), Destroy(LocalSpace('K1', ''))))))"
       ]
      }
     ],
     "prompt_number": 18
    },
    {
     "cell_type": "heading",
     "level": 2,
     "metadata": {},
     "source": [
      "The identity system"
     ]
    },
    {
     "cell_type": "markdown",
     "metadata": {},
     "source": [
      "This system just passes through all signals unalterered. You can specify how many fields should be passed as `cid(n)`."
     ]
    },
    {
     "cell_type": "code",
     "collapsed": false,
     "input": [
      "cid(2).show()"
     ],
     "language": "python",
     "metadata": {},
     "outputs": [
      {
       "metadata": {},
       "output_type": "display_data",
       "png": "[encoded data removed]",
       "text": [
        "<IPython.core.display.Image at 0x1098c0290>"
       ]
      }
     ],
     "prompt_number": 19
    },
    {
     "cell_type": "code",
     "collapsed": false,
     "input": [
      "cid(2).toSLH()"
     ],
     "language": "python",
     "metadata": {},
     "outputs": [
      {
       "latex": [
        "$\\left( \\begin{pmatrix} 1 & 0 \\\\ 0 & 1\\end{pmatrix}, \\begin{pmatrix} 0 \\\\ 0\\end{pmatrix}, {\\rm 0} \\right)$"
       ],
       "metadata": {},
       "output_type": "pyout",
       "prompt_number": 20,
       "text": [
        "SLH(Matrix([[1, 0], [0, 1]]), Matrix([[0], [0]]), 0)"
       ]
      }
     ],
     "prompt_number": 20
    },
    {
     "cell_type": "heading",
     "level": 1,
     "metadata": {},
     "source": [
      "Circuit algebra"
     ]
    },
    {
     "cell_type": "heading",
     "level": 3,
     "metadata": {},
     "source": [
      "Series"
     ]
    },
    {
     "cell_type": "markdown",
     "metadata": {},
     "source": [
      "One system feeding into another. The notation is from right to left:"
     ]
    },
    {
     "cell_type": "code",
     "collapsed": false,
     "input": [
      "PW = (P << W)\n",
      "PW"
     ],
     "language": "python",
     "metadata": {},
     "outputs": [
      {
       "latex": [
        "${{\\rm P1}} \\lhd {{W({\\rm alpha})}}$"
       ],
       "metadata": {},
       "output_type": "pyout",
       "prompt_number": 36,
       "text": [
        "SeriesProduct(Phase('P1','', phi=phi), Displace('W','', alpha=alpha))"
       ]
      }
     ],
     "prompt_number": 36
    },
    {
     "cell_type": "code",
     "collapsed": false,
     "input": [
      "PW.show()"
     ],
     "language": "python",
     "metadata": {},
     "outputs": [
      {
       "metadata": {},
       "output_type": "display_data",
       "png": "[encoded data removed]",
       "text": [
        "<IPython.core.display.Image at 0x1098f2a90>"
       ]
      }
     ],
     "prompt_number": 37
    },
    {
     "cell_type": "code",
     "collapsed": false,
     "input": [
      "PW.toSLH()"
     ],
     "language": "python",
     "metadata": {},
     "outputs": [
      {
       "latex": [
        "$\\left( \\begin{pmatrix} e^{i \\phi}\\end{pmatrix}, \\begin{pmatrix} \\alpha e^{i \\phi}\\end{pmatrix}, {\\rm 0} \\right)$"
       ],
       "metadata": {},
       "output_type": "pyout",
       "prompt_number": 38,
       "text": [
        "SLH(Matrix([[exp(I*phi)]]), Matrix([[alpha*exp(I*phi)]]), 0)"
       ]
      }
     ],
     "prompt_number": 38
    },
    {
     "cell_type": "heading",
     "level": 3,
     "metadata": {},
     "source": [
      "Concatenation"
     ]
    },
    {
     "cell_type": "markdown",
     "metadata": {},
     "source": [
      "Combining to systems in parallel is a concatenation."
     ]
    },
    {
     "cell_type": "code",
     "collapsed": false,
     "input": [
      "(PW + cid(1))"
     ],
     "language": "python",
     "metadata": {},
     "outputs": [
      {
       "latex": [
        "$({{\\rm P1}} \\lhd {{W({\\rm alpha})}}) \\boxplus \\mathbf{1}_{1}$"
       ],
       "metadata": {},
       "output_type": "pyout",
       "prompt_number": 24,
       "text": [
        "Concatenation(SeriesProduct(Phase('P1','', phi=phi), Displace('W','', alpha=alpha)), CIdentity)"
       ]
      }
     ],
     "prompt_number": 24
    },
    {
     "cell_type": "code",
     "collapsed": false,
     "input": [
      "(PW + cid(1)).show()"
     ],
     "language": "python",
     "metadata": {},
     "outputs": [
      {
       "metadata": {},
       "output_type": "display_data",
       "png": "[encoded data removed]",
       "text": [
        "<IPython.core.display.Image at 0x1084ce0d0>"
       ]
      }
     ],
     "prompt_number": 25
    },
    {
     "cell_type": "code",
     "collapsed": false,
     "input": [
      "(PW + cid(1)).toSLH()"
     ],
     "language": "python",
     "metadata": {},
     "outputs": [
      {
       "latex": [
        "$\\left( \\begin{pmatrix} e^{i \\phi} & 0 \\\\ 0 & 1\\end{pmatrix}, \\begin{pmatrix} \\alpha e^{i \\phi} \\\\ 0\\end{pmatrix}, {\\rm 0} \\right)$"
       ],
       "metadata": {},
       "output_type": "pyout",
       "prompt_number": 26,
       "text": [
        "SLH(Matrix([[exp(I*phi), 0], [0, 1]]), Matrix([[alpha*exp(I*phi)], [0]]), 0)"
       ]
      }
     ],
     "prompt_number": 26
    },
    {
     "cell_type": "heading",
     "level": 3,
     "metadata": {},
     "source": [
      "Kerr cavity with phase shifted input"
     ]
    },
    {
     "cell_type": "markdown",
     "metadata": {},
     "source": [
      "More complex feed forward"
     ]
    },
    {
     "cell_type": "code",
     "collapsed": false,
     "input": [
      "KPW = K << (PW + cid(1))\n",
      "KPW"
     ],
     "language": "python",
     "metadata": {},
     "outputs": [
      {
       "latex": [
        "${{\\rm K1}} \\lhd \\left(({{\\rm P1}} \\lhd {{W({\\rm alpha})}}) \\boxplus \\mathbf{1}_{1}\\right)$"
       ],
       "metadata": {},
       "output_type": "pyout",
       "prompt_number": 27,
       "text": [
        "SeriesProduct(KerrCavity('K1',''), Concatenation(SeriesProduct(Phase('P1','', phi=phi), Displace('W','', alpha=alpha)), CIdentity))"
       ]
      }
     ],
     "prompt_number": 27
    },
    {
     "cell_type": "code",
     "collapsed": false,
     "input": [
      "KPW.show()"
     ],
     "language": "python",
     "metadata": {},
     "outputs": [
      {
       "metadata": {},
       "output_type": "display_data",
       "png": "[encoded data removed]",
       "text": [
        "<IPython.core.display.Image at 0x1098c0ad0>"
       ]
      }
     ],
     "prompt_number": 28
    },
    {
     "cell_type": "code",
     "collapsed": false,
     "input": [
      "KPW.toSLH()"
     ],
     "language": "python",
     "metadata": {},
     "outputs": [
      {
       "latex": [
        "$\\left( \\begin{pmatrix} e^{i \\phi} & 0 \\\\ 0 & 1\\end{pmatrix}, \\begin{pmatrix}  \\alpha e^{i \\phi} +  \\sqrt{\\kappa_{1}} {a_{{{\\rm K1}}}} \\\\  \\sqrt{\\kappa_{2}} {a_{{{\\rm K1}}}}\\end{pmatrix},  \\frac{i}{2} \\left( - \\alpha \\sqrt{\\kappa_{1}} e^{i \\phi} {a_{{{\\rm K1}}}^\\dagger} +  \\alpha \\sqrt{\\kappa_{1}} e^{- i \\phi} {a_{{{\\rm K1}}}}\\right) +  \\chi {a_{{{\\rm K1}}}^\\dagger} {a_{{{\\rm K1}}}^\\dagger} {a_{{{\\rm K1}}}} {a_{{{\\rm K1}}}} +  \\Delta {a_{{{\\rm K1}}}^\\dagger} {a_{{{\\rm K1}}}} \\right)$"
       ],
       "metadata": {},
       "output_type": "pyout",
       "prompt_number": 29,
       "text": [
        "SLH(Matrix([[exp(I*phi), 0], [0, 1]]), Matrix([[OperatorPlus(ScalarTimesOperator(alpha*exp(I*phi), IdentityOperator), ScalarTimesOperator(sqrt(kappa_1), Destroy(LocalSpace('K1', ''))))], [ScalarTimesOperator(sqrt(kappa_2), Destroy(LocalSpace('K1', '')))]]), OperatorPlus(ScalarTimesOperator(I/2, OperatorPlus(ScalarTimesOperator(-alpha*sqrt(kappa_1)*exp(I*phi), Create(LocalSpace('K1', ''))), ScalarTimesOperator(alpha*sqrt(kappa_1)*exp(-I*phi), Destroy(LocalSpace('K1', ''))))), ScalarTimesOperator(chi, OperatorTimes(Create(LocalSpace('K1', '')), Create(LocalSpace('K1', '')), Destroy(LocalSpace('K1', '')), Destroy(LocalSpace('K1', '')))), ScalarTimesOperator(Delta, OperatorTimes(Create(LocalSpace('K1', '')), Destroy(LocalSpace('K1', ''))))))"
       ]
      }
     ],
     "prompt_number": 29
    },
    {
     "cell_type": "heading",
     "level": 3,
     "metadata": {},
     "source": [
      "Driven Kerr cavity with phase shifted self-feedback"
     ]
    },
    {
     "cell_type": "markdown",
     "metadata": {},
     "source": [
      "The feedback operation is when a system's output $k$ is fed back into an input $j$.\n",
      "The notation is `SYS.feedback(k, j)`, where the indices $k, j$ are **zero-based**, i.e. `0, 1, 2, ..., n-1`"
     ]
    },
    {
     "cell_type": "code",
     "collapsed": false,
     "input": [
      "KFB = (K << (W + P)).feedback(0, 1)\n",
      "KFB"
     ],
     "language": "python",
     "metadata": {},
     "outputs": [
      {
       "latex": [
        "${\\left\\lfloor{{\\rm K1}} \\lhd \\left(\\mathbf{1}_{1} \\boxplus {\\rm P1}\\right)\\right\\rfloor_{0\\to1}} \\lhd {{W({\\rm alpha})}}$"
       ],
       "metadata": {},
       "output_type": "pyout",
       "prompt_number": 30,
       "text": [
        "SeriesProduct(Feedback(SeriesProduct(KerrCavity('K1',''), Concatenation(CIdentity, Phase('P1','', phi=phi))), 0, 1), Displace('W','', alpha=alpha))"
       ]
      }
     ],
     "prompt_number": 30
    },
    {
     "cell_type": "heading",
     "level": 3,
     "metadata": {},
     "source": [
      "Circuit expression was simplified! Here, it was pretty easy, but it works in far more complicated situations"
     ]
    },
    {
     "cell_type": "markdown",
     "metadata": {},
     "source": [
      "Close inspection reveals that the displacement $W(\\alpha)$ was pulled out of the feedback loop."
     ]
    },
    {
     "cell_type": "code",
     "collapsed": false,
     "input": [
      "KFB.show()"
     ],
     "language": "python",
     "metadata": {},
     "outputs": [
      {
       "metadata": {},
       "output_type": "display_data",
       "png": "[encoded data removed]",
       "text": [
        "<IPython.core.display.Image at 0x1098f2a90>"
       ]
      }
     ],
     "prompt_number": 31
    },
    {
     "cell_type": "code",
     "collapsed": false,
     "input": [
      "KFB.toSLH()"
     ],
     "language": "python",
     "metadata": {},
     "outputs": [
      {
       "latex": [
        "$\\left( \\begin{pmatrix} e^{i \\phi}\\end{pmatrix}, \\begin{pmatrix}  \\alpha e^{i \\phi} +  \\left(\\sqrt{\\kappa_{1}} e^{i \\phi} + \\sqrt{\\kappa_{2}}\\right) {a_{{{\\rm K1}}}}\\end{pmatrix},  \\frac{i}{2} \\left( - \\alpha \\left(\\sqrt{\\kappa_{1}} e^{- i \\phi} + \\sqrt{\\kappa_{2}}\\right) e^{i \\phi} {a_{{{\\rm K1}}}^\\dagger} +  \\alpha \\left(\\sqrt{\\kappa_{1}} e^{i \\phi} + \\sqrt{\\kappa_{2}}\\right) e^{- i \\phi} {a_{{{\\rm K1}}}}\\right) +  \\chi {a_{{{\\rm K1}}}^\\dagger} {a_{{{\\rm K1}}}^\\dagger} {a_{{{\\rm K1}}}} {a_{{{\\rm K1}}}} +  \\left(\\Delta + \\frac{i}{2} \\left(- \\sqrt{\\kappa_{1}} \\sqrt{\\kappa_{2}} e^{i \\phi} + \\sqrt{\\kappa_{1}} \\sqrt{\\kappa_{2}} e^{- i \\phi}\\right)\\right) {a_{{{\\rm K1}}}^\\dagger} {a_{{{\\rm K1}}}} \\right)$"
       ],
       "metadata": {},
       "output_type": "pyout",
       "prompt_number": 32,
       "text": [
        "SLH(Matrix([[exp(I*phi)]]), Matrix([[OperatorPlus(ScalarTimesOperator(alpha*exp(I*phi), IdentityOperator), ScalarTimesOperator(sqrt(kappa_1)*exp(I*phi) + sqrt(kappa_2), Destroy(LocalSpace('K1', ''))))]]), OperatorPlus(ScalarTimesOperator(I/2, OperatorPlus(ScalarTimesOperator(-alpha*(sqrt(kappa_1)*exp(-I*phi) + sqrt(kappa_2))*exp(I*phi), Create(LocalSpace('K1', ''))), ScalarTimesOperator(alpha*(sqrt(kappa_1)*exp(I*phi) + sqrt(kappa_2))*exp(-I*phi), Destroy(LocalSpace('K1', ''))))), ScalarTimesOperator(chi, OperatorTimes(Create(LocalSpace('K1', '')), Create(LocalSpace('K1', '')), Destroy(LocalSpace('K1', '')), Destroy(LocalSpace('K1', '')))), ScalarTimesOperator(Delta + I*(-sqrt(kappa_1)*sqrt(kappa_2)*exp(I*phi) + sqrt(kappa_1)*sqrt(kappa_2)*exp(-I*phi))/2, OperatorTimes(Create(LocalSpace('K1', '')), Destroy(LocalSpace('K1', ''))))))"
       ]
      }
     ],
     "prompt_number": 32
    },
    {
     "cell_type": "code",
     "collapsed": false,
     "input": [
      "S, L, H = KFB.toSLH()\n",
      "S"
     ],
     "language": "python",
     "metadata": {},
     "outputs": [
      {
       "latex": [
        "$\\begin{pmatrix} e^{i \\phi}\\end{pmatrix}$"
       ],
       "metadata": {},
       "output_type": "pyout",
       "prompt_number": 33,
       "text": [
        "Matrix([[exp(I*phi)]])"
       ]
      }
     ],
     "prompt_number": 33
    },
    {
     "cell_type": "code",
     "collapsed": false,
     "input": [
      "L"
     ],
     "language": "python",
     "metadata": {},
     "outputs": [
      {
       "latex": [
        "$\\begin{pmatrix}  \\alpha e^{i \\phi} +  \\left(\\sqrt{\\kappa_{1}} e^{i \\phi} + \\sqrt{\\kappa_{2}}\\right) {a_{{{\\rm K1}}}}\\end{pmatrix}$"
       ],
       "metadata": {},
       "output_type": "pyout",
       "prompt_number": 34,
       "text": [
        "Matrix([[OperatorPlus(ScalarTimesOperator(alpha*exp(I*phi), IdentityOperator), ScalarTimesOperator(sqrt(kappa_1)*exp(I*phi) + sqrt(kappa_2), Destroy(LocalSpace('K1', ''))))]])"
       ]
      }
     ],
     "prompt_number": 34
    },
    {
     "cell_type": "code",
     "collapsed": false,
     "input": [
      "H"
     ],
     "language": "python",
     "metadata": {},
     "outputs": [
      {
       "latex": [
        "$ \\frac{i}{2} \\left( - \\alpha \\left(\\sqrt{\\kappa_{1}} e^{- i \\phi} + \\sqrt{\\kappa_{2}}\\right) e^{i \\phi} {a_{{{\\rm K1}}}^\\dagger} +  \\alpha \\left(\\sqrt{\\kappa_{1}} e^{i \\phi} + \\sqrt{\\kappa_{2}}\\right) e^{- i \\phi} {a_{{{\\rm K1}}}}\\right) +  \\chi {a_{{{\\rm K1}}}^\\dagger} {a_{{{\\rm K1}}}^\\dagger} {a_{{{\\rm K1}}}} {a_{{{\\rm K1}}}} +  \\left(\\Delta + \\frac{i}{2} \\left(- \\sqrt{\\kappa_{1}} \\sqrt{\\kappa_{2}} e^{i \\phi} + \\sqrt{\\kappa_{1}} \\sqrt{\\kappa_{2}} e^{- i \\phi}\\right)\\right) {a_{{{\\rm K1}}}^\\dagger} {a_{{{\\rm K1}}}}$"
       ],
       "metadata": {},
       "output_type": "pyout",
       "prompt_number": 35,
       "text": [
        "OperatorPlus(ScalarTimesOperator(I/2, OperatorPlus(ScalarTimesOperator(-alpha*(sqrt(kappa_1)*exp(-I*phi) + sqrt(kappa_2))*exp(I*phi), Create(LocalSpace('K1', ''))), ScalarTimesOperator(alpha*(sqrt(kappa_1)*exp(I*phi) + sqrt(kappa_2))*exp(-I*phi), Destroy(LocalSpace('K1', ''))))), ScalarTimesOperator(chi, OperatorTimes(Create(LocalSpace('K1', '')), Create(LocalSpace('K1', '')), Destroy(LocalSpace('K1', '')), Destroy(LocalSpace('K1', '')))), ScalarTimesOperator(Delta + I*(-sqrt(kappa_1)*sqrt(kappa_2)*exp(I*phi) + sqrt(kappa_1)*sqrt(kappa_2)*exp(-I*phi))/2, OperatorTimes(Create(LocalSpace('K1', '')), Destroy(LocalSpace('K1', '')))))"
       ]
      }
     ],
     "prompt_number": 35
    }
   ],
   "metadata": {}
  }
 ]
}